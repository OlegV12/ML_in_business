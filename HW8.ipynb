{
  "nbformat": 4,
  "nbformat_minor": 0,
  "metadata": {
    "kernelspec": {
      "display_name": "Python 3",
      "language": "python",
      "name": "python3"
    },
    "language_info": {
      "codemirror_mode": {
        "name": "ipython",
        "version": 3
      },
      "file_extension": ".py",
      "mimetype": "text/x-python",
      "name": "python",
      "nbconvert_exporter": "python",
      "pygments_lexer": "ipython3",
      "version": "3.8.3"
    },
    "colab": {
      "name": "HW8.ipynb",
      "provenance": [],
      "include_colab_link": true
    }
  },
  "cells": [
    {
      "cell_type": "markdown",
      "metadata": {
        "id": "view-in-github",
        "colab_type": "text"
      },
      "source": [
        "<a href=\"https://colab.research.google.com/github/OlegV12/ML_in_business/blob/Lesson_8/HW8.ipynb\" target=\"_parent\"><img src=\"https://colab.research.google.com/assets/colab-badge.svg\" alt=\"Open In Colab\"/></a>"
      ]
    },
    {
      "cell_type": "code",
      "metadata": {
        "id": "0VSD03MSsQDZ"
      },
      "source": [
        "import pandas as pd\n",
        "import numpy as np\n",
        "import random\n",
        "import scipy\n",
        "import scipy as sp\n",
        "import scipy.stats as sts\n",
        "import matplotlib.pyplot as plt\n",
        "%matplotlib inline\n",
        "\n",
        "random.seed(42)"
      ],
      "execution_count": 2,
      "outputs": []
    },
    {
      "cell_type": "markdown",
      "metadata": {
        "id": "50IIxLyU-ltW"
      },
      "source": [
        "\n",
        "<a id='ab'></a>\n",
        "##  A/B тестирование\n",
        "\n",
        "A/B-тестирование (англ. A/B testing, Split testing) — метод маркетингового исследования, суть которого заключается в том, что контрольная группа элементов сравнивается с набором тестовых групп, в которых один или несколько показателей были изменены, для того, чтобы выяснить, какие из изменений улучшают целевой показатель и улучшают ли.\n",
        "\n",
        "Типичное применение в веб-дизайне — исследование влияния цветовой схемы, расположения и размера элементов интерфейса на конверсию сайта."
      ]
    },
    {
      "cell_type": "markdown",
      "metadata": {
        "id": "JctzO1Gn-ltX"
      },
      "source": [
        "Конверсия (Conversion Rate) в интернет-маркетинге — это отношение числа посетителей сайта, выполнивших на нём какие-либо целевые действия (покупку, регистрацию, подписку, посещение определённой страницы сайта, переход по рекламной ссылке), к общему числу посетителей сайта, выраженное в процентах. \n",
        "\n",
        "\n",
        "\n",
        "В теории принципы A/B тестирования невероятно просты:\n",
        "\n",
        "- Выдвигаем предположение о том, что какое-то изменение (например, персонализация главной страницы) увеличит конверсию интернет-магазина.\n",
        "\n",
        "- Создаем альтернативную версию сайта «Б» — копию исходной версии «А» с изменениями, от которых мы ждем роста эффективности сайта.\n",
        "\n",
        "- Всех посетителей сайта случайным образом делим на две равные группы: одной группе показываем исходный вариант (контрольная группа) , второй группе (тестовой) — альтернативный. Одновременно измеряем конверсию для обеих версий сайта.\n",
        "\n",
        "- Определяем статистически достоверно победивший вариант."
      ]
    },
    {
      "cell_type": "markdown",
      "metadata": {
        "id": "UVNAqfIA-ltX"
      },
      "source": [
        "Мы будем анализировать результаты A/B тестирования двух версий дизайна кнопки сайта интернет-магазина. \n",
        "\n",
        "Целевым действием считаем клик по этой кнопке. \n",
        "\n",
        "Первые три этапа А/В тестирования за нас провели, результаты предоставили в виде файла ab_dataset.csv. Нам осталось выполнить четвертый пункт."
      ]
    },
    {
      "cell_type": "markdown",
      "metadata": {
        "id": "0wY43rrIsQDe"
      },
      "source": [
        "**Задание **\n",
        "\n",
        "Провести аналогичные исследования но для чека покупок клиентов (колонки `revenue`)  \n",
        "в интернет магазине есть 2-ва типа продуктов:\n",
        "* 100 руб.\n",
        "* 250 руб.\n",
        "\n",
        "ну и конечно клиент может ничего не купить  \n",
        "провести исследование изменился ли средний чек"
      ]
    },
    {
      "cell_type": "markdown",
      "metadata": {
        "id": "rQ4Gzr9o-ltX"
      },
      "source": [
        " <a id='eda'></a>\n",
        "### Первичный анализ данных"
      ]
    },
    {
      "cell_type": "markdown",
      "metadata": {
        "id": "Vo3Whc3h-ltX"
      },
      "source": [
        "Прочитаем данные из файла `ab_datas.csv`. Сохраним их в датафрейм `df`. \n",
        "\n",
        "Прочитаем данные и посмотрим на первые 5 строк:"
      ]
    },
    {
      "cell_type": "code",
      "metadata": {
        "colab": {
          "base_uri": "https://localhost:8080/"
        },
        "id": "A6BAS1XFVtbJ",
        "outputId": "6e9c3c5d-ec92-47af-b5d7-28c3944cc8cd"
      },
      "source": [
        "from google.colab import drive\n",
        "drive.mount('/gdrive')"
      ],
      "execution_count": 3,
      "outputs": [
        {
          "output_type": "stream",
          "name": "stdout",
          "text": [
            "Mounted at /gdrive\n"
          ]
        }
      ]
    },
    {
      "cell_type": "code",
      "metadata": {
        "colab": {
          "base_uri": "https://localhost:8080/",
          "height": 204
        },
        "id": "WmrvOCGt-ltX",
        "outputId": "e36c8720-d563-4cb5-b9c0-fe274e047906"
      },
      "source": [
        "df = pd.read_csv('/gdrive/MyDrive/ab_datas.csv')\n",
        "\n",
        "df.head()"
      ],
      "execution_count": 4,
      "outputs": [
        {
          "output_type": "execute_result",
          "data": {
            "text/html": [
              "<div>\n",
              "<style scoped>\n",
              "    .dataframe tbody tr th:only-of-type {\n",
              "        vertical-align: middle;\n",
              "    }\n",
              "\n",
              "    .dataframe tbody tr th {\n",
              "        vertical-align: top;\n",
              "    }\n",
              "\n",
              "    .dataframe thead th {\n",
              "        text-align: right;\n",
              "    }\n",
              "</style>\n",
              "<table border=\"1\" class=\"dataframe\">\n",
              "  <thead>\n",
              "    <tr style=\"text-align: right;\">\n",
              "      <th></th>\n",
              "      <th>user_id</th>\n",
              "      <th>timestamp</th>\n",
              "      <th>group</th>\n",
              "      <th>landing_page</th>\n",
              "      <th>converted</th>\n",
              "      <th>revenue</th>\n",
              "    </tr>\n",
              "  </thead>\n",
              "  <tbody>\n",
              "    <tr>\n",
              "      <th>0</th>\n",
              "      <td>851104</td>\n",
              "      <td>2017-01-21 22:11:48.556739</td>\n",
              "      <td>control</td>\n",
              "      <td>old_page</td>\n",
              "      <td>0</td>\n",
              "      <td>0</td>\n",
              "    </tr>\n",
              "    <tr>\n",
              "      <th>1</th>\n",
              "      <td>804228</td>\n",
              "      <td>2017-01-12 08:01:45.159739</td>\n",
              "      <td>control</td>\n",
              "      <td>old_page</td>\n",
              "      <td>0</td>\n",
              "      <td>0</td>\n",
              "    </tr>\n",
              "    <tr>\n",
              "      <th>2</th>\n",
              "      <td>661590</td>\n",
              "      <td>2017-01-11 16:55:06.154213</td>\n",
              "      <td>treatment</td>\n",
              "      <td>new_page</td>\n",
              "      <td>0</td>\n",
              "      <td>100</td>\n",
              "    </tr>\n",
              "    <tr>\n",
              "      <th>3</th>\n",
              "      <td>853541</td>\n",
              "      <td>2017-01-08 18:28:03.143765</td>\n",
              "      <td>treatment</td>\n",
              "      <td>new_page</td>\n",
              "      <td>0</td>\n",
              "      <td>0</td>\n",
              "    </tr>\n",
              "    <tr>\n",
              "      <th>4</th>\n",
              "      <td>864975</td>\n",
              "      <td>2017-01-21 01:52:26.210827</td>\n",
              "      <td>control</td>\n",
              "      <td>old_page</td>\n",
              "      <td>1</td>\n",
              "      <td>250</td>\n",
              "    </tr>\n",
              "  </tbody>\n",
              "</table>\n",
              "</div>"
            ],
            "text/plain": [
              "   user_id                   timestamp  ... converted revenue\n",
              "0   851104  2017-01-21 22:11:48.556739  ...         0       0\n",
              "1   804228  2017-01-12 08:01:45.159739  ...         0       0\n",
              "2   661590  2017-01-11 16:55:06.154213  ...         0     100\n",
              "3   853541  2017-01-08 18:28:03.143765  ...         0       0\n",
              "4   864975  2017-01-21 01:52:26.210827  ...         1     250\n",
              "\n",
              "[5 rows x 6 columns]"
            ]
          },
          "metadata": {},
          "execution_count": 4
        }
      ]
    },
    {
      "cell_type": "markdown",
      "metadata": {
        "id": "OjE-8Ylg-ltY"
      },
      "source": [
        "Посмотрим, сколько посетителей заходио на сайт (количество строк в нашем датафрейме)"
      ]
    },
    {
      "cell_type": "code",
      "metadata": {
        "colab": {
          "base_uri": "https://localhost:8080/"
        },
        "id": "jyudDfaq-ltY",
        "outputId": "f3c57547-e716-4a8a-eb39-7a221e99d37b"
      },
      "source": [
        "#количество посетителей всего\n",
        "\n",
        "n_rows = df.shape[0]\n",
        "print(\"Число строк: {}\".format(n_rows))"
      ],
      "execution_count": 5,
      "outputs": [
        {
          "output_type": "stream",
          "name": "stdout",
          "text": [
            "Число строк: 294478\n"
          ]
        }
      ]
    },
    {
      "cell_type": "markdown",
      "metadata": {
        "id": "RAOG9bmL-ltY"
      },
      "source": [
        "Сколько уникальных пользователей (уникальных `user_id`) в датасете?"
      ]
    },
    {
      "cell_type": "code",
      "metadata": {
        "colab": {
          "base_uri": "https://localhost:8080/"
        },
        "id": "WFa9Jd7--ltY",
        "outputId": "a3ed4846-5838-4418-c6f8-53e1590006eb"
      },
      "source": [
        "user_total = df.nunique()['user_id']\n",
        "print(\"Число уникальных пользователей : {}\".format(user_total))"
      ],
      "execution_count": 6,
      "outputs": [
        {
          "output_type": "stream",
          "name": "stdout",
          "text": [
            "Число уникальных пользователей : 290584\n"
          ]
        }
      ]
    },
    {
      "cell_type": "markdown",
      "metadata": {
        "collapsed": true,
        "id": "o3N6lGi5-ltY"
      },
      "source": [
        "Посетителей из контрольной `control` группы должны были направлять на страницу в старом дизайне  `old_page` , пользователей из тестовой группы `treatment` - на страницу в новом дизайне `new_page`. Проверим, были ли ошибки при направлении."
      ]
    },
    {
      "cell_type": "code",
      "metadata": {
        "colab": {
          "base_uri": "https://localhost:8080/"
        },
        "id": "BmE8wUnS-ltY",
        "outputId": "87372a91-82e9-4d89-e152-e762c77a5b0b"
      },
      "source": [
        "mismatch_1 = df.query(\"group == 'treatment' and landing_page == 'old_page'\")\n",
        "print(\"Из тестовой группы неверно направлены {}\".format(len(mismatch_1)) + \" пользователей\")\n",
        "\n",
        "mismatch_2 = df.query(\"group == 'control' and landing_page == 'new_page'\")\n",
        "print(\"Из контрольной группы неверно направлены  {}\".format(len(mismatch_2)) + \" пользователей\")\n"
      ],
      "execution_count": 7,
      "outputs": [
        {
          "output_type": "stream",
          "name": "stdout",
          "text": [
            "Из тестовой группы неверно направлены 1965 пользователей\n",
            "Из контрольной группы неверно направлены  1928 пользователей\n"
          ]
        }
      ]
    },
    {
      "cell_type": "markdown",
      "metadata": {
        "id": "a2XyBHO6-ltY"
      },
      "source": [
        "Выясним, есть ли в данных пропуски."
      ]
    },
    {
      "cell_type": "code",
      "metadata": {
        "colab": {
          "base_uri": "https://localhost:8080/"
        },
        "id": "HZeyu9Vg-ltZ",
        "outputId": "677f2612-6de1-4e01-af43-dce1af338e3b"
      },
      "source": [
        "df.info()"
      ],
      "execution_count": 8,
      "outputs": [
        {
          "output_type": "stream",
          "name": "stdout",
          "text": [
            "<class 'pandas.core.frame.DataFrame'>\n",
            "RangeIndex: 294478 entries, 0 to 294477\n",
            "Data columns (total 6 columns):\n",
            " #   Column        Non-Null Count   Dtype \n",
            "---  ------        --------------   ----- \n",
            " 0   user_id       294478 non-null  int64 \n",
            " 1   timestamp     294478 non-null  object\n",
            " 2   group         294478 non-null  object\n",
            " 3   landing_page  294478 non-null  object\n",
            " 4   converted     294478 non-null  int64 \n",
            " 5   revenue       294478 non-null  int64 \n",
            "dtypes: int64(3), object(3)\n",
            "memory usage: 13.5+ MB\n"
          ]
        }
      ]
    },
    {
      "cell_type": "markdown",
      "metadata": {
        "id": "fBYhavoY-ltZ"
      },
      "source": [
        "Из сообщений следует, что пропущенных значений нет."
      ]
    },
    {
      "cell_type": "markdown",
      "metadata": {
        "collapsed": true,
        "id": "cG8tfrF9-ltZ"
      },
      "source": [
        "Конверсия по всем посетителям"
      ]
    },
    {
      "cell_type": "code",
      "metadata": {
        "colab": {
          "base_uri": "https://localhost:8080/"
        },
        "id": "p4Wtr0fr-ltZ",
        "outputId": "802ce8f1-3d2f-4ebe-e82a-32fd442eee63"
      },
      "source": [
        "p_all=df['converted'].mean()\n",
        "print(\"Конверсия по всем посетителям: {} %\".format(p_all*100))"
      ],
      "execution_count": 9,
      "outputs": [
        {
          "output_type": "stream",
          "name": "stdout",
          "text": [
            "Конверсия по всем посетителям: 11.96591935560551 %\n"
          ]
        }
      ]
    },
    {
      "cell_type": "code",
      "metadata": {
        "colab": {
          "base_uri": "https://localhost:8080/"
        },
        "id": "PdJekzO9-ltZ",
        "outputId": "80a2ad19-851e-468d-ab8f-448171afe474"
      },
      "source": [
        "# можно и так:\n",
        "sum(df['converted'].values)/n_rows"
      ],
      "execution_count": 10,
      "outputs": [
        {
          "output_type": "execute_result",
          "data": {
            "text/plain": [
              "0.11965919355605512"
            ]
          },
          "metadata": {},
          "execution_count": 10
        }
      ]
    },
    {
      "cell_type": "markdown",
      "metadata": {
        "id": "rz1RnfX_-ltZ"
      },
      "source": [
        "Давайте посмотрим на описательную статистику нашего датасета (воспользуемся функцией  `describe`) и постараемся получить ответы на следующие вопросы:\n",
        "\n",
        "- Какова вероятность клика для посетителей из контрольной группы (старый дизайн)?\n",
        "\n",
        "- Какова вероятность клика для посетителей из тестовой группы (новый дизайн кнопки)?\n",
        "\n",
        "- Каково соотношение размеров тестовой и контрольный групп? Какова вероятность, что очередной посетитель будет направлен на версию со старым дизайном? С новым дизайном?"
      ]
    },
    {
      "cell_type": "code",
      "metadata": {
        "colab": {
          "base_uri": "https://localhost:8080/",
          "height": 193
        },
        "id": "cywgO088-ltZ",
        "outputId": "5e2e7ed1-2d42-4420-95ff-5414c0ff65cb"
      },
      "source": [
        "df_grp = df.groupby('group')\n",
        "df_grp.describe()"
      ],
      "execution_count": 11,
      "outputs": [
        {
          "output_type": "execute_result",
          "data": {
            "text/html": [
              "<div>\n",
              "<style scoped>\n",
              "    .dataframe tbody tr th:only-of-type {\n",
              "        vertical-align: middle;\n",
              "    }\n",
              "\n",
              "    .dataframe tbody tr th {\n",
              "        vertical-align: top;\n",
              "    }\n",
              "\n",
              "    .dataframe thead tr th {\n",
              "        text-align: left;\n",
              "    }\n",
              "\n",
              "    .dataframe thead tr:last-of-type th {\n",
              "        text-align: right;\n",
              "    }\n",
              "</style>\n",
              "<table border=\"1\" class=\"dataframe\">\n",
              "  <thead>\n",
              "    <tr>\n",
              "      <th></th>\n",
              "      <th colspan=\"8\" halign=\"left\">user_id</th>\n",
              "      <th colspan=\"8\" halign=\"left\">converted</th>\n",
              "      <th colspan=\"8\" halign=\"left\">revenue</th>\n",
              "    </tr>\n",
              "    <tr>\n",
              "      <th></th>\n",
              "      <th>count</th>\n",
              "      <th>mean</th>\n",
              "      <th>std</th>\n",
              "      <th>min</th>\n",
              "      <th>25%</th>\n",
              "      <th>50%</th>\n",
              "      <th>75%</th>\n",
              "      <th>max</th>\n",
              "      <th>count</th>\n",
              "      <th>mean</th>\n",
              "      <th>std</th>\n",
              "      <th>min</th>\n",
              "      <th>25%</th>\n",
              "      <th>50%</th>\n",
              "      <th>75%</th>\n",
              "      <th>max</th>\n",
              "      <th>count</th>\n",
              "      <th>mean</th>\n",
              "      <th>std</th>\n",
              "      <th>min</th>\n",
              "      <th>25%</th>\n",
              "      <th>50%</th>\n",
              "      <th>75%</th>\n",
              "      <th>max</th>\n",
              "    </tr>\n",
              "    <tr>\n",
              "      <th>group</th>\n",
              "      <th></th>\n",
              "      <th></th>\n",
              "      <th></th>\n",
              "      <th></th>\n",
              "      <th></th>\n",
              "      <th></th>\n",
              "      <th></th>\n",
              "      <th></th>\n",
              "      <th></th>\n",
              "      <th></th>\n",
              "      <th></th>\n",
              "      <th></th>\n",
              "      <th></th>\n",
              "      <th></th>\n",
              "      <th></th>\n",
              "      <th></th>\n",
              "      <th></th>\n",
              "      <th></th>\n",
              "      <th></th>\n",
              "      <th></th>\n",
              "      <th></th>\n",
              "      <th></th>\n",
              "      <th></th>\n",
              "      <th></th>\n",
              "    </tr>\n",
              "  </thead>\n",
              "  <tbody>\n",
              "    <tr>\n",
              "      <th>control</th>\n",
              "      <td>147202.0</td>\n",
              "      <td>788123.098035</td>\n",
              "      <td>91278.896888</td>\n",
              "      <td>630002.0</td>\n",
              "      <td>709287.0</td>\n",
              "      <td>788053.5</td>\n",
              "      <td>867155.50</td>\n",
              "      <td>945998.0</td>\n",
              "      <td>147202.0</td>\n",
              "      <td>0.120399</td>\n",
              "      <td>0.325429</td>\n",
              "      <td>0.0</td>\n",
              "      <td>0.0</td>\n",
              "      <td>0.0</td>\n",
              "      <td>0.0</td>\n",
              "      <td>1.0</td>\n",
              "      <td>147202.0</td>\n",
              "      <td>87.431896</td>\n",
              "      <td>102.424926</td>\n",
              "      <td>0.0</td>\n",
              "      <td>0.0</td>\n",
              "      <td>0.0</td>\n",
              "      <td>250.0</td>\n",
              "      <td>250.0</td>\n",
              "    </tr>\n",
              "    <tr>\n",
              "      <th>treatment</th>\n",
              "      <td>147276.0</td>\n",
              "      <td>787825.226283</td>\n",
              "      <td>91142.800641</td>\n",
              "      <td>630000.0</td>\n",
              "      <td>708729.5</td>\n",
              "      <td>787837.5</td>\n",
              "      <td>866693.75</td>\n",
              "      <td>945999.0</td>\n",
              "      <td>147276.0</td>\n",
              "      <td>0.118920</td>\n",
              "      <td>0.323695</td>\n",
              "      <td>0.0</td>\n",
              "      <td>0.0</td>\n",
              "      <td>0.0</td>\n",
              "      <td>0.0</td>\n",
              "      <td>1.0</td>\n",
              "      <td>147276.0</td>\n",
              "      <td>116.496238</td>\n",
              "      <td>102.732069</td>\n",
              "      <td>0.0</td>\n",
              "      <td>0.0</td>\n",
              "      <td>100.0</td>\n",
              "      <td>250.0</td>\n",
              "      <td>250.0</td>\n",
              "    </tr>\n",
              "  </tbody>\n",
              "</table>\n",
              "</div>"
            ],
            "text/plain": [
              "            user_id                               ... revenue              \n",
              "              count           mean           std  ...     50%    75%    max\n",
              "group                                             ...                      \n",
              "control    147202.0  788123.098035  91278.896888  ...     0.0  250.0  250.0\n",
              "treatment  147276.0  787825.226283  91142.800641  ...   100.0  250.0  250.0\n",
              "\n",
              "[2 rows x 24 columns]"
            ]
          },
          "metadata": {},
          "execution_count": 11
        }
      ]
    },
    {
      "cell_type": "markdown",
      "metadata": {
        "id": "BB1aqoKD-ltZ"
      },
      "source": [
        "Ответы на остальные вопросы можно найти, например, так:"
      ]
    },
    {
      "cell_type": "code",
      "metadata": {
        "colab": {
          "base_uri": "https://localhost:8080/"
        },
        "id": "2q4mHg1y-lta",
        "outputId": "6fb63757-6b55-4483-9188-9dcf5221bc42"
      },
      "source": [
        "#объем тестовой группы\n",
        "n_rows_treat = len(df[df['group'] == 'treatment'])\n",
        "\n",
        "#объем контрольной группы\n",
        "n_rows_contr = n_rows-n_rows_treat\n",
        "\n",
        "print(\"Соотношение размеров тестовой и контрольной групп: {}\".format(n_rows_treat/n_rows_contr))\n",
        "\n",
        "print(\"Вероятность, что новый пользователь будет направлен на версию со старым дизайном: {}\".format(n_rows_treat/n_rows))\n",
        "print(\"Вероятность, что новый пользователь будет направлен на версию с новым дизайном: {}\".format(n_rows_contr/n_rows))\n"
      ],
      "execution_count": 12,
      "outputs": [
        {
          "output_type": "stream",
          "name": "stdout",
          "text": [
            "Соотношение размеров тестовой и контрольной групп: 1.0005027105609978\n",
            "Вероятность, что новый пользователь будет направлен на версию со старым дизайном: 0.5001256460584492\n",
            "Вероятность, что новый пользователь будет направлен на версию с новым дизайном: 0.49987435394155083\n"
          ]
        }
      ]
    },
    {
      "cell_type": "markdown",
      "metadata": {
        "id": "ORB7gHw3-lta"
      },
      "source": [
        "**Задание **\n",
        "\n",
        "А теперь ответьте на главный вопрос данного этапа:  выявил ли предварительный анализ, что дизайн кнопки влияет на конверсию и если да, то как именно?"
      ]
    },
    {
      "cell_type": "markdown",
      "metadata": {
        "id": "63ZFf2FT-ltb"
      },
      "source": [
        "<a id='si1'></a>\n",
        "#### Формулировка рабочей гипотезы"
      ]
    },
    {
      "cell_type": "markdown",
      "metadata": {
        "id": "76-2Q9oh-ltb"
      },
      "source": [
        "Рабочая гипотеза в нашем случае может быть сформулирована, например, так: \"Конверсия сайта со старым дизайном не меньше, чем с новым\""
      ]
    },
    {
      "cell_type": "markdown",
      "metadata": {
        "id": "UTPeiEN1-ltb"
      },
      "source": [
        "<a id='si2'></a>\n",
        "#### Формальное описание нулевой и альтернативной гипотез"
      ]
    },
    {
      "cell_type": "markdown",
      "metadata": {
        "id": "41QMxujG-ltb"
      },
      "source": [
        "$H_{0}$ : $\\theta_{new}$ <= $\\theta_{old}$ \n",
        "\n",
        "$H_{1}$ : $\\theta_{new}$ > $\\theta_{old}$ "
      ]
    },
    {
      "cell_type": "markdown",
      "metadata": {
        "id": "qyHMx20O-ltb"
      },
      "source": [
        "<a id='si1'></a>\n",
        "#### Выбор подходящего статистического теста (статистического критерия)"
      ]
    },
    {
      "cell_type": "markdown",
      "metadata": {
        "id": "qV49ZVmt-ltb"
      },
      "source": [
        "Истинные значения $\\theta_{new}$ и $\\theta_{old}$ мы найти не можем, но мы можем их сравнить. В этом помогут те самые две теоремы."
      ]
    },
    {
      "cell_type": "markdown",
      "metadata": {
        "id": "_h9hAZ18-ltc"
      },
      "source": [
        "\n",
        "\n",
        "\n",
        "\n",
        "\n",
        "На основании Закона больших чисел мы можем оценить средние значения случайных величин $\\theta_{new}$ и $\\theta_{old}$ на  генеральных совокупностях по их средним значениям на наших больших выборках."
      ]
    },
    {
      "cell_type": "markdown",
      "metadata": {
        "id": "9kDK8gEd-ltc"
      },
      "source": [
        "На основании Центральной предельной теоремы средние значения распределены нормально при больших объемах выборок."
      ]
    },
    {
      "cell_type": "markdown",
      "metadata": {
        "id": "pMT1DSIj-ltc"
      },
      "source": [
        "Чтобы выбрать для проверки наших гипотез подходящий статистический критерий, уясним задачу. Нам нужно выяснить, случайно или значимо отличаются средние значения, т.е. доли, кликнувших посетителей в контрольной и тестовой выборках."
      ]
    },
    {
      "cell_type": "markdown",
      "metadata": {
        "id": "x4saRv3C-ltc"
      },
      "source": [
        "<a id='si4'></a>\n",
        "#### Проведение вычислений. $Z$-критерий."
      ]
    },
    {
      "cell_type": "code",
      "metadata": {
        "colab": {
          "base_uri": "https://localhost:8080/"
        },
        "id": "VpV4OkX2-ltc",
        "outputId": "5819c2e6-3ec1-4aa2-dbd4-91bbdbfc2fa7"
      },
      "source": [
        "#Z-статистика\n",
        "import statsmodels.api as sm\n",
        "import statsmodels\n",
        "\n",
        "convert_contr = sum(df.query(\"group == 'control'\")['converted'])\n",
        "convert_treat = sum(df.query(\"group == 'treatment'\")['converted'])\n",
        "\n",
        "z_score, p_value = sm.stats.proportions_ztest([convert_treat, convert_contr], [n_rows_treat, n_rows_contr], \n",
        "                                              alternative='larger')\n",
        "\n",
        "print(\"Z-статистика={},  p_value={}\".format(z_score, p_value))\n"
      ],
      "execution_count": 13,
      "outputs": [
        {
          "output_type": "stream",
          "name": "stderr",
          "text": [
            "/usr/local/lib/python3.7/dist-packages/statsmodels/tools/_testing.py:19: FutureWarning: pandas.util.testing is deprecated. Use the functions in the public API at pandas.testing instead.\n",
            "  import pandas.util.testing as tm\n"
          ]
        },
        {
          "output_type": "stream",
          "name": "stdout",
          "text": [
            "Z-статистика=-1.2369217547321678,  p_value=0.8919419336512124\n"
          ]
        }
      ]
    },
    {
      "cell_type": "markdown",
      "metadata": {
        "id": "pW2DtUj9sQDs"
      },
      "source": [
        "#### Проведение вычислений. $T$-test."
      ]
    },
    {
      "cell_type": "code",
      "metadata": {
        "id": "slgQTieJsQDs"
      },
      "source": [
        "t_score, p_value, _ = statsmodels.stats.weightstats.ttest_ind(df.query(\"group == 'treatment'\")['converted'],\n",
        "                                                              df.query(\"group == 'control'\")['converted'],\n",
        "                                                              alternative=\"larger\",\n",
        "                                                              usevar='unequal')"
      ],
      "execution_count": 14,
      "outputs": []
    },
    {
      "cell_type": "code",
      "metadata": {
        "colab": {
          "base_uri": "https://localhost:8080/"
        },
        "id": "5dzKwPezsQDs",
        "outputId": "66f159d0-06f0-4a70-fecf-862457206398"
      },
      "source": [
        "print(\"T-статистика={},  p_value={}\".format(t_score, p_value))"
      ],
      "execution_count": 15,
      "outputs": [
        {
          "output_type": "stream",
          "name": "stdout",
          "text": [
            "T-статистика=-1.2369191070650731,  p_value=0.8919409489056533\n"
          ]
        }
      ]
    },
    {
      "cell_type": "markdown",
      "metadata": {
        "id": "F3lHpicPsQDs"
      },
      "source": [
        "#### Проведение вычислений. $Mann–Whitney$-test."
      ]
    },
    {
      "cell_type": "code",
      "metadata": {
        "id": "tVY3udGesQDs"
      },
      "source": [
        "w_score, p_value = scipy.stats.mannwhitneyu(df.query(\"group == 'treatment'\")['converted'], \n",
        "                         df.query(\"group == 'control'\")['converted'],\n",
        "                         alternative=\"greater\")"
      ],
      "execution_count": 16,
      "outputs": []
    },
    {
      "cell_type": "code",
      "metadata": {
        "colab": {
          "base_uri": "https://localhost:8080/"
        },
        "id": "n7enjsKWsQDt",
        "outputId": "9d596487-d648-4b11-b49c-c5deaa08a8e1"
      },
      "source": [
        "print(\"W-статистика={},  p_value={}\".format(w_score, p_value))"
      ],
      "execution_count": 17,
      "outputs": [
        {
          "output_type": "stream",
          "name": "stdout",
          "text": [
            "W-статистика=10823622516.0,  p_value=0.8919415509213815\n"
          ]
        }
      ]
    },
    {
      "cell_type": "markdown",
      "metadata": {
        "id": "gbIRVWZ-sQDt"
      },
      "source": [
        "**Задание **\n",
        "\n",
        "Посмотрели на результаты стат тестов, какая гипотеза оказалась верна"
      ]
    },
    {
      "cell_type": "markdown",
      "metadata": {
        "id": "03JQLOJ2-ltd"
      },
      "source": [
        "<a id='m12'></a>\n",
        "### Ошибки первого и второго рода"
      ]
    },
    {
      "cell_type": "markdown",
      "metadata": {
        "id": "yTDRFQb3-lte"
      },
      "source": [
        "|  | | | |\n",
        "|----------|:---------|:--------|:---------|\n",
        "|  | | \tВерная гипотеза: | |\n",
        "|  |     | $H_0$   | $H_1$    |\n",
        "| Результат применения критерия: | $H_0$   |$H_0$ верно принята  |$H_0$ неверно принята (ошибка II рода)  |  \n",
        "|  |$H_1$   |$H_0$ неверно отвергнута(ошибка I рода)  | $H_0$ верно отвергнута   |\n",
        "\n"
      ]
    },
    {
      "cell_type": "markdown",
      "metadata": {
        "id": "q5HXVl1S-lte"
      },
      "source": [
        "Уровень значимости (статистическая значимость, statistical significance) $\\alpha$ - это и есть вероятность ошибки первого рода, т. е. вероятность принятия альтернативной гипотезы при условии, что на самом деле верна нулевая гипотеза. \n",
        "\n",
        "Обозначим  $\\beta$  вероятность ошибки второго рода. \n",
        "\n",
        "Величина  $1-\\beta$ называется *статистической мощностью* (statistical power) критерия. По сути мощность показывает, сколько значений, соответствующих альтернативной гипотезе, мы действительно отнесем к альтернативной гипотезе"
      ]
    },
    {
      "cell_type": "markdown",
      "metadata": {
        "id": "s5ekCiq7sQDu"
      },
      "source": [
        "![asd](https://habrastorage.org/files/475/9e5/ebc/4759e5ebcfc54b11a852704017d2d8ac.png)"
      ]
    },
    {
      "cell_type": "markdown",
      "metadata": {
        "id": "Z__H3tPGsQDu"
      },
      "source": [
        "![mem](https://i2.wp.com/flowingdata.com/wp-content/uploads/2014/05/Type-I-and-II-errors1.jpg?fit=960%2C720&ssl=1)"
      ]
    },
    {
      "cell_type": "markdown",
      "metadata": {
        "id": "iO0UK0PhsQDu"
      },
      "source": [
        "## bootstrap  \n",
        "Сделаем стат выводы при помощи bootstrap-а"
      ]
    },
    {
      "cell_type": "code",
      "metadata": {
        "colab": {
          "base_uri": "https://localhost:8080/",
          "height": 204
        },
        "id": "e5ug-rsksQDu",
        "outputId": "13369b92-6412-40f1-891e-58976e5062d1"
      },
      "source": [
        "df.head()"
      ],
      "execution_count": 18,
      "outputs": [
        {
          "output_type": "execute_result",
          "data": {
            "text/html": [
              "<div>\n",
              "<style scoped>\n",
              "    .dataframe tbody tr th:only-of-type {\n",
              "        vertical-align: middle;\n",
              "    }\n",
              "\n",
              "    .dataframe tbody tr th {\n",
              "        vertical-align: top;\n",
              "    }\n",
              "\n",
              "    .dataframe thead th {\n",
              "        text-align: right;\n",
              "    }\n",
              "</style>\n",
              "<table border=\"1\" class=\"dataframe\">\n",
              "  <thead>\n",
              "    <tr style=\"text-align: right;\">\n",
              "      <th></th>\n",
              "      <th>user_id</th>\n",
              "      <th>timestamp</th>\n",
              "      <th>group</th>\n",
              "      <th>landing_page</th>\n",
              "      <th>converted</th>\n",
              "      <th>revenue</th>\n",
              "    </tr>\n",
              "  </thead>\n",
              "  <tbody>\n",
              "    <tr>\n",
              "      <th>0</th>\n",
              "      <td>851104</td>\n",
              "      <td>2017-01-21 22:11:48.556739</td>\n",
              "      <td>control</td>\n",
              "      <td>old_page</td>\n",
              "      <td>0</td>\n",
              "      <td>0</td>\n",
              "    </tr>\n",
              "    <tr>\n",
              "      <th>1</th>\n",
              "      <td>804228</td>\n",
              "      <td>2017-01-12 08:01:45.159739</td>\n",
              "      <td>control</td>\n",
              "      <td>old_page</td>\n",
              "      <td>0</td>\n",
              "      <td>0</td>\n",
              "    </tr>\n",
              "    <tr>\n",
              "      <th>2</th>\n",
              "      <td>661590</td>\n",
              "      <td>2017-01-11 16:55:06.154213</td>\n",
              "      <td>treatment</td>\n",
              "      <td>new_page</td>\n",
              "      <td>0</td>\n",
              "      <td>100</td>\n",
              "    </tr>\n",
              "    <tr>\n",
              "      <th>3</th>\n",
              "      <td>853541</td>\n",
              "      <td>2017-01-08 18:28:03.143765</td>\n",
              "      <td>treatment</td>\n",
              "      <td>new_page</td>\n",
              "      <td>0</td>\n",
              "      <td>0</td>\n",
              "    </tr>\n",
              "    <tr>\n",
              "      <th>4</th>\n",
              "      <td>864975</td>\n",
              "      <td>2017-01-21 01:52:26.210827</td>\n",
              "      <td>control</td>\n",
              "      <td>old_page</td>\n",
              "      <td>1</td>\n",
              "      <td>250</td>\n",
              "    </tr>\n",
              "  </tbody>\n",
              "</table>\n",
              "</div>"
            ],
            "text/plain": [
              "   user_id                   timestamp  ... converted revenue\n",
              "0   851104  2017-01-21 22:11:48.556739  ...         0       0\n",
              "1   804228  2017-01-12 08:01:45.159739  ...         0       0\n",
              "2   661590  2017-01-11 16:55:06.154213  ...         0     100\n",
              "3   853541  2017-01-08 18:28:03.143765  ...         0       0\n",
              "4   864975  2017-01-21 01:52:26.210827  ...         1     250\n",
              "\n",
              "[5 rows x 6 columns]"
            ]
          },
          "metadata": {},
          "execution_count": 18
        }
      ]
    },
    {
      "cell_type": "code",
      "metadata": {
        "colab": {
          "base_uri": "https://localhost:8080/",
          "height": 265
        },
        "id": "VuJ0oFlSsQDv",
        "outputId": "d69336d1-fc3d-4b18-cb25-baf3d5892e65"
      },
      "source": [
        "plt.hist(df.loc[df['group']=='treatment', 'converted']);"
      ],
      "execution_count": 19,
      "outputs": [
        {
          "output_type": "display_data",
          "data": {
            "image/png": "[encoded data removed]",
            "text/plain": [
              "<Figure size 432x288 with 1 Axes>"
            ]
          },
          "metadata": {
            "needs_background": "light"
          }
        }
      ]
    },
    {
      "cell_type": "code",
      "metadata": {
        "colab": {
          "base_uri": "https://localhost:8080/",
          "height": 265
        },
        "id": "3rAL_nXEsQDv",
        "outputId": "eb003cc3-a1d6-47d1-f3ba-1033d0f19b90"
      },
      "source": [
        "plt.hist(df.loc[df['group']=='control', 'converted']);"
      ],
      "execution_count": 20,
      "outputs": [
        {
          "output_type": "display_data",
          "data": {
            "image/png": "[encoded data removed]",
            "text/plain": [
              "<Figure size 432x288 with 1 Axes>"
            ]
          },
          "metadata": {
            "needs_background": "light"
          }
        }
      ]
    },
    {
      "cell_type": "code",
      "metadata": {
        "id": "y2ot5lZbsQDv"
      },
      "source": [
        "b = df.loc[df['group']=='treatment', 'converted'].values\n",
        "a = df.loc[df['group']=='control', 'converted'].values"
      ],
      "execution_count": 21,
      "outputs": []
    },
    {
      "cell_type": "code",
      "metadata": {
        "id": "V_UEijx5sQDw"
      },
      "source": [
        "from sklearn.utils import resample\n",
        "\n",
        "a_means = []\n",
        "b_means = []\n",
        "\n",
        "for i in range(10000):\n",
        "    a_boot = resample(a, replace=True, n_samples=len(a))\n",
        "    b_boot = resample(b, replace=True, n_samples=len(b))\n",
        "    \n",
        "    a_means.append(a_boot.mean())\n",
        "    b_means.append(b_boot.mean())\n",
        "    \n",
        "a_means = np.array(a_means)\n",
        "b_means = np.array(b_means)"
      ],
      "execution_count": 22,
      "outputs": []
    },
    {
      "cell_type": "code",
      "metadata": {
        "colab": {
          "base_uri": "https://localhost:8080/",
          "height": 265
        },
        "id": "JCkpdPwRsQDw",
        "outputId": "c3899773-b200-4142-e33f-0d66a739484f"
      },
      "source": [
        "plt.hist(a_means, label='A conv', alpha=0.5, bins=100)\n",
        "plt.hist(b_means, label='B conv', alpha=0.5, bins=100)\n",
        "\n",
        "plt.legend()\n",
        "plt.show()"
      ],
      "execution_count": 23,
      "outputs": [
        {
          "output_type": "display_data",
          "data": {
            "image/png": "[encoded data removed]",
            "text/plain": [
              "<Figure size 432x288 with 1 Axes>"
            ]
          },
          "metadata": {
            "needs_background": "light"
          }
        }
      ]
    },
    {
      "cell_type": "code",
      "metadata": {
        "colab": {
          "base_uri": "https://localhost:8080/"
        },
        "id": "HHxA7QXIsQDw",
        "outputId": "486223e1-aad8-492f-c920-f225b1ac2014"
      },
      "source": [
        "# доверительный интервал\n",
        "np.percentile(a_means, 2.5), np.percentile(a_means, 97.5)"
      ],
      "execution_count": 24,
      "outputs": [
        {
          "output_type": "execute_result",
          "data": {
            "text/plain": [
              "(0.11873462996426679, 0.12206355891903643)"
            ]
          },
          "metadata": {},
          "execution_count": 24
        }
      ]
    },
    {
      "cell_type": "code",
      "metadata": {
        "colab": {
          "base_uri": "https://localhost:8080/",
          "height": 265
        },
        "id": "X0yOWE6zsQDw",
        "outputId": "100473ac-479a-46df-b69c-82161bf3e369"
      },
      "source": [
        "plt.hist(a_means - b_means, bins=100)\n",
        "plt.show()"
      ],
      "execution_count": 25,
      "outputs": [
        {
          "output_type": "display_data",
          "data": {
            "image/png": "[encoded data removed]",
            "text/plain": [
              "<Figure size 432x288 with 1 Axes>"
            ]
          },
          "metadata": {
            "needs_background": "light"
          }
        }
      ]
    },
    {
      "cell_type": "code",
      "metadata": {
        "colab": {
          "base_uri": "https://localhost:8080/"
        },
        "id": "Ok3n6eJLsQDx",
        "outputId": "07672a0d-46b0-45e2-bb1a-891a641a2de1"
      },
      "source": [
        "# сделаем оценку на p_value\n",
        "dff = a_means - b_means\n",
        "\n",
        "len(dff[dff>=0])/len(dff)"
      ],
      "execution_count": 26,
      "outputs": [
        {
          "output_type": "execute_result",
          "data": {
            "text/plain": [
              "0.8908"
            ]
          },
          "metadata": {},
          "execution_count": 26
        }
      ]
    },
    {
      "cell_type": "markdown",
      "metadata": {
        "id": "f39vfdBpcc3D"
      },
      "source": [
        "Решение ДЗ"
      ]
    },
    {
      "cell_type": "code",
      "metadata": {
        "colab": {
          "base_uri": "https://localhost:8080/"
        },
        "id": "6EASHLfAbJOW",
        "outputId": "ae742a5e-d94d-49a4-be76-0a2a1fcef9ba"
      },
      "source": [
        "old_page_rev_mean = df[(df['group'] == 'control') & (df['landing_page'] == 'old_page')]['revenue'].mean()\n",
        "old_page_rev_mean"
      ],
      "execution_count": 27,
      "outputs": [
        {
          "output_type": "execute_result",
          "data": {
            "text/plain": [
              "87.46678689923868"
            ]
          },
          "metadata": {},
          "execution_count": 27
        }
      ]
    },
    {
      "cell_type": "code",
      "metadata": {
        "colab": {
          "base_uri": "https://localhost:8080/"
        },
        "id": "7FmrgInSboPn",
        "outputId": "a681f925-e83d-4c2d-814f-82950a9b353b"
      },
      "source": [
        "new_page_rev_mean = df[(df['group'] == 'treatment') & (df['landing_page'] == 'new_page')]['revenue'].mean()\n",
        "new_page_rev_mean"
      ],
      "execution_count": 28,
      "outputs": [
        {
          "output_type": "execute_result",
          "data": {
            "text/plain": [
              "116.49496596954118"
            ]
          },
          "metadata": {},
          "execution_count": 28
        }
      ]
    },
    {
      "cell_type": "code",
      "metadata": {
        "id": "VTWGQrEGzK5O"
      },
      "source": [
        "dif = old_page_rev_mean - new_page_rev_mean"
      ],
      "execution_count": 29,
      "outputs": []
    },
    {
      "cell_type": "markdown",
      "metadata": {
        "id": "JZnEH56SfCbU"
      },
      "source": [
        "Средний чек у новой страницы выше."
      ]
    },
    {
      "cell_type": "code",
      "metadata": {
        "id": "L4t4vcsNq50d"
      },
      "source": [
        "import pandas as pd\n",
        "from scipy import stats\n",
        "from statsmodels.stats import weightstats as stests\n",
        "ztest, pval1 = stests.ztest(x1=df[(df['group'] == 'control') & (df['landing_page'] == 'old_page')]['revenue'], x2=df[(df['group'] == 'treatment') & (df['landing_page'] == 'new_page')]['revenue'], alternative='larger',)\n",
        "\n"
      ],
      "execution_count": 30,
      "outputs": []
    },
    {
      "cell_type": "code",
      "metadata": {
        "colab": {
          "base_uri": "https://localhost:8080/"
        },
        "id": "dCr-deQlUGGU",
        "outputId": "12b442fa-e866-4272-ec77-0903f41c6e7d"
      },
      "source": [
        "ztest, pval1"
      ],
      "execution_count": 31,
      "outputs": [
        {
          "output_type": "execute_result",
          "data": {
            "text/plain": [
              "(-76.26755948711013, 1.0)"
            ]
          },
          "metadata": {},
          "execution_count": 31
        }
      ]
    },
    {
      "cell_type": "code",
      "metadata": {
        "id": "fgr5RJo0UGWv"
      },
      "source": [
        "w_score, p_value = scipy.stats.mannwhitneyu(df[(df['group'] == 'control') & (df['landing_page'] == 'old_page')]['revenue'], \n",
        "                         df[(df['group'] == 'treatment') & (df['landing_page'] == 'new_page')]['revenue'],\n",
        "                         alternative=\"greater\")"
      ],
      "execution_count": 32,
      "outputs": []
    },
    {
      "cell_type": "code",
      "metadata": {
        "colab": {
          "base_uri": "https://localhost:8080/"
        },
        "id": "LAdKGD-2UGWw",
        "outputId": "1358208a-61ba-487c-8314-504fb14a3949"
      },
      "source": [
        "print(\"W-статистика={},  p_value={}\".format(w_score, p_value))"
      ],
      "execution_count": 33,
      "outputs": [
        {
          "output_type": "stream",
          "name": "stdout",
          "text": [
            "W-статистика=8800351169.0,  p_value=1.0\n"
          ]
        }
      ]
    },
    {
      "cell_type": "markdown",
      "metadata": {
        "id": "-rDsepqqVS8b"
      },
      "source": [
        "Верная гипотеза - альтернативная: при смене лендинга (кнопки) средний чек увеличивается. "
      ]
    },
    {
      "cell_type": "code",
      "metadata": {
        "id": "C1JblEkQu0WG"
      },
      "source": [
        "b = df[(df['group'] == 'treatment') & (df['landing_page'] == 'new_page')]['revenue']\n",
        "a = df[(df['group'] == 'control') & (df['landing_page'] == 'old_page')]['revenue']"
      ],
      "execution_count": 34,
      "outputs": []
    },
    {
      "cell_type": "code",
      "metadata": {
        "id": "dDrUSqP7u0WH"
      },
      "source": [
        "from sklearn.utils import resample\n",
        "\n",
        "a_means = []\n",
        "b_means = []\n",
        "\n",
        "for i in range(10000):\n",
        "    a_boot = resample(a, replace=True, n_samples=len(a))\n",
        "    b_boot = resample(b, replace=True, n_samples=len(b))\n",
        "    \n",
        "    a_means.append(a_boot.mean())\n",
        "    b_means.append(b_boot.mean())\n",
        "    \n",
        "a_means = np.array(a_means)\n",
        "b_means = np.array(b_means)"
      ],
      "execution_count": 35,
      "outputs": []
    },
    {
      "cell_type": "code",
      "metadata": {
        "colab": {
          "base_uri": "https://localhost:8080/",
          "height": 265
        },
        "id": "Ck66GTaFu0WI",
        "outputId": "bf8f49de-62c0-41b7-c5a0-ffc3c2a54f5a"
      },
      "source": [
        "plt.hist(a_means, label='A mean check', alpha=0.5, bins=100)\n",
        "plt.hist(b_means, label='B mean check', alpha=0.5, bins=100)\n",
        "\n",
        "plt.legend()\n",
        "plt.show()"
      ],
      "execution_count": 36,
      "outputs": [
        {
          "output_type": "display_data",
          "data": {
            "image/png": "[encoded data removed]",
            "text/plain": [
              "<Figure size 432x288 with 1 Axes>"
            ]
          },
          "metadata": {
            "needs_background": "light"
          }
        }
      ]
    }
  ]
}