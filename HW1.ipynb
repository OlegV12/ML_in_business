{
  "nbformat": 4,
  "nbformat_minor": 0,
  "metadata": {
    "kernelspec": {
      "display_name": "Python 3",
      "language": "python",
      "name": "python3"
    },
    "language_info": {
      "codemirror_mode": {
        "name": "ipython",
        "version": 3
      },
      "file_extension": ".py",
      "mimetype": "text/x-python",
      "name": "python",
      "nbconvert_exporter": "python",
      "pygments_lexer": "ipython3",
      "version": "3.8.3"
    },
    "colab": {
      "name": "HW1.ipynb",
      "provenance": [],
      "collapsed_sections": [],
      "include_colab_link": true
    }
  },
  "cells": [
    {
      "cell_type": "markdown",
      "metadata": {
        "id": "view-in-github",
        "colab_type": "text"
      },
      "source": [
        "<a href=\"https://colab.research.google.com/github/OlegV12/ML_in_business/blob/Lesson_1/HW1.ipynb\" target=\"_parent\"><img src=\"https://colab.research.google.com/assets/colab-badge.svg\" alt=\"Open In Colab\"/></a>"
      ]
    },
    {
      "cell_type": "markdown",
      "metadata": {
        "id": "LO_aLqErXsXd"
      },
      "source": [
        "Автор материала: Зраев Артем.\n",
        "\n",
        "Можно использовать в каких угодно целях."
      ]
    },
    {
      "cell_type": "markdown",
      "metadata": {
        "id": "oy_BhqQAXsXf"
      },
      "source": [
        "<b> В задании нужно загрузить датасет с данными оттока и ответить на несколько вопросов (написать код). При этом сам датасет уже есть и его необязательно качать с репозитория</b>"
      ]
    },
    {
      "cell_type": "markdown",
      "metadata": {
        "id": "VG9lqMVrXsXf"
      },
      "source": [
        "Цель задания: проверить базовые навыки работы студентов с Pandas, умение проводить такой же базовый EDA (exploratory data analysis), делать feature engineering и обучать и валидировать модель."
      ]
    },
    {
      "cell_type": "markdown",
      "metadata": {
        "id": "iNGYkGCIXsXg"
      },
      "source": [
        "Список столбцов с типами данных в датасете:\n",
        "\n",
        "- customerID           object\n",
        "- gender               object\n",
        "- SeniorCitizen         int64\n",
        "- Partner              object\n",
        "- Dependents           object\n",
        "- tenure                int64\n",
        "- PhoneService         object\n",
        "- MultipleLines        object\n",
        "- InternetService      object\n",
        "- OnlineSecurity       object\n",
        "- OnlineBackup         object\n",
        "- DeviceProtection     object\n",
        "- TechSupport          object\n",
        "- StreamingTV          object\n",
        "- StreamingMovies      object\n",
        "- Contract             object\n",
        "- PaperlessBilling     object\n",
        "- PaymentMethod        object\n",
        "- MonthlyCharges      float64\n",
        "- TotalCharges         object\n",
        "- Churn                object"
      ]
    },
    {
      "cell_type": "code",
      "metadata": {
        "colab": {
          "base_uri": "https://localhost:8080/"
        },
        "id": "pYxD-ym0YF15",
        "outputId": "c36a0eeb-83e4-408b-9080-1903c04ad4b3"
      },
      "source": [
        "from google.colab import drive\n",
        "drive.mount('/gdrive')"
      ],
      "execution_count": 2,
      "outputs": [
        {
          "output_type": "stream",
          "name": "stdout",
          "text": [
            "Mounted at /gdrive\n"
          ]
        }
      ]
    },
    {
      "cell_type": "code",
      "metadata": {
        "scrolled": true,
        "colab": {
          "base_uri": "https://localhost:8080/",
          "height": 213
        },
        "id": "YyVwS5HuXsXh",
        "outputId": "367ef62a-d08e-43fc-f4c3-77ae50108b75"
      },
      "source": [
        "import pandas as pd\n",
        "import numpy as np\n",
        "\n",
        "df = pd.read_csv(\"/gdrive/MyDrive/WA_Fn-UseC_-Telco-Customer-Churn.csv\")\n",
        "df.head(3)"
      ],
      "execution_count": 3,
      "outputs": [
        {
          "output_type": "execute_result",
          "data": {
            "text/html": [
              "<div>\n",
              "<style scoped>\n",
              "    .dataframe tbody tr th:only-of-type {\n",
              "        vertical-align: middle;\n",
              "    }\n",
              "\n",
              "    .dataframe tbody tr th {\n",
              "        vertical-align: top;\n",
              "    }\n",
              "\n",
              "    .dataframe thead th {\n",
              "        text-align: right;\n",
              "    }\n",
              "</style>\n",
              "<table border=\"1\" class=\"dataframe\">\n",
              "  <thead>\n",
              "    <tr style=\"text-align: right;\">\n",
              "      <th></th>\n",
              "      <th>customerID</th>\n",
              "      <th>gender</th>\n",
              "      <th>SeniorCitizen</th>\n",
              "      <th>Partner</th>\n",
              "      <th>Dependents</th>\n",
              "      <th>tenure</th>\n",
              "      <th>PhoneService</th>\n",
              "      <th>MultipleLines</th>\n",
              "      <th>InternetService</th>\n",
              "      <th>OnlineSecurity</th>\n",
              "      <th>OnlineBackup</th>\n",
              "      <th>DeviceProtection</th>\n",
              "      <th>TechSupport</th>\n",
              "      <th>StreamingTV</th>\n",
              "      <th>StreamingMovies</th>\n",
              "      <th>Contract</th>\n",
              "      <th>PaperlessBilling</th>\n",
              "      <th>PaymentMethod</th>\n",
              "      <th>MonthlyCharges</th>\n",
              "      <th>TotalCharges</th>\n",
              "      <th>Churn</th>\n",
              "    </tr>\n",
              "  </thead>\n",
              "  <tbody>\n",
              "    <tr>\n",
              "      <th>0</th>\n",
              "      <td>7590-VHVEG</td>\n",
              "      <td>Female</td>\n",
              "      <td>0</td>\n",
              "      <td>Yes</td>\n",
              "      <td>No</td>\n",
              "      <td>1</td>\n",
              "      <td>No</td>\n",
              "      <td>No phone service</td>\n",
              "      <td>DSL</td>\n",
              "      <td>No</td>\n",
              "      <td>Yes</td>\n",
              "      <td>No</td>\n",
              "      <td>No</td>\n",
              "      <td>No</td>\n",
              "      <td>No</td>\n",
              "      <td>Month-to-month</td>\n",
              "      <td>Yes</td>\n",
              "      <td>Electronic check</td>\n",
              "      <td>29.85</td>\n",
              "      <td>29.85</td>\n",
              "      <td>No</td>\n",
              "    </tr>\n",
              "    <tr>\n",
              "      <th>1</th>\n",
              "      <td>5575-GNVDE</td>\n",
              "      <td>Male</td>\n",
              "      <td>0</td>\n",
              "      <td>No</td>\n",
              "      <td>No</td>\n",
              "      <td>34</td>\n",
              "      <td>Yes</td>\n",
              "      <td>No</td>\n",
              "      <td>DSL</td>\n",
              "      <td>Yes</td>\n",
              "      <td>No</td>\n",
              "      <td>Yes</td>\n",
              "      <td>No</td>\n",
              "      <td>No</td>\n",
              "      <td>No</td>\n",
              "      <td>One year</td>\n",
              "      <td>No</td>\n",
              "      <td>Mailed check</td>\n",
              "      <td>56.95</td>\n",
              "      <td>1889.5</td>\n",
              "      <td>No</td>\n",
              "    </tr>\n",
              "    <tr>\n",
              "      <th>2</th>\n",
              "      <td>3668-QPYBK</td>\n",
              "      <td>Male</td>\n",
              "      <td>0</td>\n",
              "      <td>No</td>\n",
              "      <td>No</td>\n",
              "      <td>2</td>\n",
              "      <td>Yes</td>\n",
              "      <td>No</td>\n",
              "      <td>DSL</td>\n",
              "      <td>Yes</td>\n",
              "      <td>Yes</td>\n",
              "      <td>No</td>\n",
              "      <td>No</td>\n",
              "      <td>No</td>\n",
              "      <td>No</td>\n",
              "      <td>Month-to-month</td>\n",
              "      <td>Yes</td>\n",
              "      <td>Mailed check</td>\n",
              "      <td>53.85</td>\n",
              "      <td>108.15</td>\n",
              "      <td>Yes</td>\n",
              "    </tr>\n",
              "  </tbody>\n",
              "</table>\n",
              "</div>"
            ],
            "text/plain": [
              "   customerID  gender  SeniorCitizen  ... MonthlyCharges TotalCharges  Churn\n",
              "0  7590-VHVEG  Female              0  ...          29.85        29.85     No\n",
              "1  5575-GNVDE    Male              0  ...          56.95       1889.5     No\n",
              "2  3668-QPYBK    Male              0  ...          53.85       108.15    Yes\n",
              "\n",
              "[3 rows x 21 columns]"
            ]
          },
          "metadata": {},
          "execution_count": 3
        }
      ]
    },
    {
      "cell_type": "markdown",
      "metadata": {
        "id": "N6die_gPXsXj"
      },
      "source": [
        "##### 1. Какое соотношение мужчин и женщин в представленном наборе данных?"
      ]
    },
    {
      "cell_type": "code",
      "metadata": {
        "colab": {
          "base_uri": "https://localhost:8080/"
        },
        "id": "E12C7XvqXsXk",
        "outputId": "e3dc9ebb-5312-4789-a361-545094ac2f32"
      },
      "source": [
        "df['gender'].value_counts(normalize=True)"
      ],
      "execution_count": 4,
      "outputs": [
        {
          "output_type": "execute_result",
          "data": {
            "text/plain": [
              "Male      0.504756\n",
              "Female    0.495244\n",
              "Name: gender, dtype: float64"
            ]
          },
          "metadata": {},
          "execution_count": 4
        }
      ]
    },
    {
      "cell_type": "markdown",
      "metadata": {
        "id": "VtsQgWePXsXk"
      },
      "source": [
        "##### 2. Какое количество уникальных значений у поля InternetService?"
      ]
    },
    {
      "cell_type": "code",
      "metadata": {
        "colab": {
          "base_uri": "https://localhost:8080/"
        },
        "id": "FgFbsn4GXsXl",
        "outputId": "875a41aa-c849-49f8-d4b8-aebdf6d900ae"
      },
      "source": [
        "df['InternetService'].unique()"
      ],
      "execution_count": 5,
      "outputs": [
        {
          "output_type": "execute_result",
          "data": {
            "text/plain": [
              "array(['DSL', 'Fiber optic', 'No'], dtype=object)"
            ]
          },
          "metadata": {},
          "execution_count": 5
        }
      ]
    },
    {
      "cell_type": "code",
      "metadata": {
        "colab": {
          "base_uri": "https://localhost:8080/"
        },
        "id": "OsvZTh70Y3_8",
        "outputId": "3f3af9eb-ca5f-496c-c89d-57b9861cb612"
      },
      "source": [
        "len(df['InternetService'].unique())"
      ],
      "execution_count": 6,
      "outputs": [
        {
          "output_type": "execute_result",
          "data": {
            "text/plain": [
              "3"
            ]
          },
          "metadata": {},
          "execution_count": 6
        }
      ]
    },
    {
      "cell_type": "markdown",
      "metadata": {
        "id": "TSB44dEmXsXl"
      },
      "source": [
        "##### 3. Выведите статистики по полю TotalCharges (median, mean, std)."
      ]
    },
    {
      "cell_type": "code",
      "metadata": {
        "colab": {
          "base_uri": "https://localhost:8080/"
        },
        "id": "s83ZSydOXsXl",
        "outputId": "092a6447-b200-4f43-a45d-b7c66f9c3e9f"
      },
      "source": [
        "df['TotalCharges'].describe()"
      ],
      "execution_count": 7,
      "outputs": [
        {
          "output_type": "execute_result",
          "data": {
            "text/plain": [
              "count     7043\n",
              "unique    6531\n",
              "top       20.2\n",
              "freq        11\n",
              "Name: TotalCharges, dtype: object"
            ]
          },
          "metadata": {},
          "execution_count": 7
        }
      ]
    },
    {
      "cell_type": "markdown",
      "metadata": {
        "id": "ocImmOeDXsXl"
      },
      "source": [
        "В чем странность того, что вы получили? (подсказка: смотреть нужно на тип данных)"
      ]
    },
    {
      "cell_type": "markdown",
      "metadata": {
        "id": "ljeOhSfWanyf"
      },
      "source": [
        "невозможно посчтитать основные статистики для object"
      ]
    },
    {
      "cell_type": "markdown",
      "metadata": {
        "id": "Lcc3D5_IXsXm"
      },
      "source": [
        "##### 4. Сделайте замену значений поля PhoneService  на числовые (Yes->1, No->0)"
      ]
    },
    {
      "cell_type": "code",
      "metadata": {
        "colab": {
          "base_uri": "https://localhost:8080/"
        },
        "id": "6-Y-ShU4XsXm",
        "outputId": "06c378fc-9822-423d-98cf-d62a11c69d03"
      },
      "source": [
        "df.loc[df['PhoneService'] == 'Yes', 'PhoneService'] = 1\n",
        "df.loc[df['PhoneService'] == 'No', 'PhoneService'] = 0\n",
        "df['PhoneService'].head(5)"
      ],
      "execution_count": 8,
      "outputs": [
        {
          "output_type": "execute_result",
          "data": {
            "text/plain": [
              "0    0\n",
              "1    1\n",
              "2    1\n",
              "3    0\n",
              "4    1\n",
              "Name: PhoneService, dtype: object"
            ]
          },
          "metadata": {},
          "execution_count": 8
        }
      ]
    },
    {
      "cell_type": "markdown",
      "metadata": {
        "id": "mW201WoTXsXm"
      },
      "source": [
        "##### 5. Сделайте замену пробелов в поле TotalCharges на np.nan и приведите поле к типу данных float32. Затем заполните оставшиеся пропуски значением 0 с помощью метода fillna у столбца. Снова выведите статистики и сравните с тем, что вы видели в вопросе 3"
      ]
    },
    {
      "cell_type": "code",
      "metadata": {
        "colab": {
          "base_uri": "https://localhost:8080/"
        },
        "id": "lPbKjmR9XsXn",
        "outputId": "2adaab23-750c-4bde-8f4e-d6aea3a53b8e"
      },
      "source": [
        "df['TotalCharges'] = pd.to_numeric(df['TotalCharges'], errors='coerce')\n",
        "df['TotalCharges'] = df['TotalCharges'].astype('float32')\n",
        "df['TotalCharges'].fillna(0, inplace=True)\n",
        "df['TotalCharges'].describe()"
      ],
      "execution_count": 9,
      "outputs": [
        {
          "output_type": "execute_result",
          "data": {
            "text/plain": [
              "count    7043.000000\n",
              "mean     2279.732178\n",
              "std      2266.794434\n",
              "min         0.000000\n",
              "25%       398.549988\n",
              "50%      1394.550049\n",
              "75%      3786.599976\n",
              "max      8684.799805\n",
              "Name: TotalCharges, dtype: float64"
            ]
          },
          "metadata": {},
          "execution_count": 9
        }
      ]
    },
    {
      "cell_type": "markdown",
      "metadata": {
        "id": "qCnypJV-eLbi"
      },
      "source": [
        "заменили тип данных на float32 получили статистики \n",
        "\n",
        "mean=2279.73\n",
        "\n",
        "std=2266.79\n",
        "\n",
        "ьувшфт=1394.55\n"
      ]
    },
    {
      "cell_type": "markdown",
      "metadata": {
        "id": "9lpl2Hm9XsXn"
      },
      "source": [
        "##### 6. Сделайте замену значений поля Churn на числовые (Yes -> 1, No - 0)"
      ]
    },
    {
      "cell_type": "code",
      "metadata": {
        "colab": {
          "base_uri": "https://localhost:8080/"
        },
        "id": "q-_qHUbdXsXo",
        "outputId": "989b7306-8a28-4b45-e2e7-2fa38bedf3de"
      },
      "source": [
        "df.loc[df['Churn'] == 'Yes', 'Churn'] = 1\n",
        "df.loc[df['Churn'] == 'No', 'Churn'] = 0\n",
        "\n",
        "df['Churn'].describe()"
      ],
      "execution_count": 10,
      "outputs": [
        {
          "output_type": "execute_result",
          "data": {
            "text/plain": [
              "count     7043\n",
              "unique       2\n",
              "top          0\n",
              "freq      5174\n",
              "Name: Churn, dtype: int64"
            ]
          },
          "metadata": {},
          "execution_count": 10
        }
      ]
    },
    {
      "cell_type": "markdown",
      "metadata": {
        "id": "WyneN5CbXsXo"
      },
      "source": [
        "##### 7. Сделайте замену значений полей StreamingMovies, StreamingTV, TechSupport  на числовые (Yes -> 1, No -> 0, No internet service->0)"
      ]
    },
    {
      "cell_type": "code",
      "metadata": {
        "id": "rw1iiYdtXsXo"
      },
      "source": [
        "df.loc[df['StreamingMovies'] == 'Yes', 'StreamingMovies'] = 1\n",
        "df.loc[(df['StreamingMovies'] == 'No') | (df['StreamingMovies'] == 'No internet service'), 'StreamingMovies'] = 0\n",
        "\n",
        "df.loc[df['StreamingTV'] == 'Yes', 'StreamingTV'] = 1\n",
        "df.loc[(df['StreamingTV'] == 'No') | (df['StreamingTV'] == 'No internet service'), 'StreamingTV'] = 0\n",
        "\n",
        "df.loc[df['TechSupport'] == 'Yes', 'TechSupport'] = 1\n",
        "df.loc[(df['TechSupport'] == 'No') | (df['TechSupport'] == 'No internet service'), 'TechSupport'] = 0"
      ],
      "execution_count": 11,
      "outputs": []
    },
    {
      "cell_type": "markdown",
      "metadata": {
        "id": "NN6_P1A0XsXo"
      },
      "source": [
        "##### 8. Заполните пропуски в поле PhoneService значением 0"
      ]
    },
    {
      "cell_type": "code",
      "metadata": {
        "id": "HvZP3_RQXsXp"
      },
      "source": [
        "df['PhoneService'].fillna(0, inplace=True)"
      ],
      "execution_count": 12,
      "outputs": []
    },
    {
      "cell_type": "markdown",
      "metadata": {
        "id": "FGLMq_0IXsXp"
      },
      "source": [
        "#### 8. Для нашего датасета оставьте только указанный ниже список полей, удалив все другие и выведите верхние 3 строки"
      ]
    },
    {
      "cell_type": "code",
      "metadata": {
        "colab": {
          "base_uri": "https://localhost:8080/",
          "height": 142
        },
        "id": "KQQ4B2lSXsXp",
        "outputId": "30db29ee-445c-43e6-8067-52c4bbd0083f"
      },
      "source": [
        "columns = ['gender', 'tenure', 'PhoneService', 'TotalCharges', \n",
        "           'StreamingMovies', 'StreamingTV', 'TechSupport', 'Churn']\n",
        "\n",
        "\n",
        "df = df[columns]\n",
        "df.head(3)"
      ],
      "execution_count": 13,
      "outputs": [
        {
          "output_type": "execute_result",
          "data": {
            "text/html": [
              "<div>\n",
              "<style scoped>\n",
              "    .dataframe tbody tr th:only-of-type {\n",
              "        vertical-align: middle;\n",
              "    }\n",
              "\n",
              "    .dataframe tbody tr th {\n",
              "        vertical-align: top;\n",
              "    }\n",
              "\n",
              "    .dataframe thead th {\n",
              "        text-align: right;\n",
              "    }\n",
              "</style>\n",
              "<table border=\"1\" class=\"dataframe\">\n",
              "  <thead>\n",
              "    <tr style=\"text-align: right;\">\n",
              "      <th></th>\n",
              "      <th>gender</th>\n",
              "      <th>tenure</th>\n",
              "      <th>PhoneService</th>\n",
              "      <th>TotalCharges</th>\n",
              "      <th>StreamingMovies</th>\n",
              "      <th>StreamingTV</th>\n",
              "      <th>TechSupport</th>\n",
              "      <th>Churn</th>\n",
              "    </tr>\n",
              "  </thead>\n",
              "  <tbody>\n",
              "    <tr>\n",
              "      <th>0</th>\n",
              "      <td>Female</td>\n",
              "      <td>1</td>\n",
              "      <td>0</td>\n",
              "      <td>29.850000</td>\n",
              "      <td>0</td>\n",
              "      <td>0</td>\n",
              "      <td>0</td>\n",
              "      <td>0</td>\n",
              "    </tr>\n",
              "    <tr>\n",
              "      <th>1</th>\n",
              "      <td>Male</td>\n",
              "      <td>34</td>\n",
              "      <td>1</td>\n",
              "      <td>1889.500000</td>\n",
              "      <td>0</td>\n",
              "      <td>0</td>\n",
              "      <td>0</td>\n",
              "      <td>0</td>\n",
              "    </tr>\n",
              "    <tr>\n",
              "      <th>2</th>\n",
              "      <td>Male</td>\n",
              "      <td>2</td>\n",
              "      <td>1</td>\n",
              "      <td>108.150002</td>\n",
              "      <td>0</td>\n",
              "      <td>0</td>\n",
              "      <td>0</td>\n",
              "      <td>1</td>\n",
              "    </tr>\n",
              "  </tbody>\n",
              "</table>\n",
              "</div>"
            ],
            "text/plain": [
              "   gender  tenure  PhoneService  ...  StreamingTV TechSupport Churn\n",
              "0  Female       1             0  ...            0           0     0\n",
              "1    Male      34             1  ...            0           0     0\n",
              "2    Male       2             1  ...            0           0     1\n",
              "\n",
              "[3 rows x 8 columns]"
            ]
          },
          "metadata": {},
          "execution_count": 13
        }
      ]
    },
    {
      "cell_type": "code",
      "metadata": {
        "colab": {
          "base_uri": "https://localhost:8080/"
        },
        "id": "aA5mYatq2Hsc",
        "outputId": "f0db7bcf-447d-4ca8-ad19-2e25bb04bbea"
      },
      "source": [
        "df.info()"
      ],
      "execution_count": 14,
      "outputs": [
        {
          "output_type": "stream",
          "name": "stdout",
          "text": [
            "<class 'pandas.core.frame.DataFrame'>\n",
            "RangeIndex: 7043 entries, 0 to 7042\n",
            "Data columns (total 8 columns):\n",
            " #   Column           Non-Null Count  Dtype  \n",
            "---  ------           --------------  -----  \n",
            " 0   gender           7043 non-null   object \n",
            " 1   tenure           7043 non-null   int64  \n",
            " 2   PhoneService     7043 non-null   int64  \n",
            " 3   TotalCharges     7043 non-null   float32\n",
            " 4   StreamingMovies  7043 non-null   object \n",
            " 5   StreamingTV      7043 non-null   object \n",
            " 6   TechSupport      7043 non-null   object \n",
            " 7   Churn            7043 non-null   object \n",
            "dtypes: float32(1), int64(2), object(5)\n",
            "memory usage: 412.8+ KB\n"
          ]
        }
      ]
    },
    {
      "cell_type": "code",
      "metadata": {
        "id": "kTAUiQgY7UBv"
      },
      "source": [
        "df[['StreamingMovies', 'StreamingMovies', 'StreamingTV', 'TechSupport', 'Churn']] = df[['StreamingMovies', 'StreamingMovies', 'StreamingTV', 'TechSupport', 'Churn']].astype('int32')"
      ],
      "execution_count": 15,
      "outputs": []
    },
    {
      "cell_type": "code",
      "metadata": {
        "colab": {
          "base_uri": "https://localhost:8080/"
        },
        "id": "qvweqq323PlV",
        "outputId": "b69a69a4-d87a-4f9f-e3b6-afeafc7a0a75"
      },
      "source": [
        "df.info()"
      ],
      "execution_count": 16,
      "outputs": [
        {
          "output_type": "stream",
          "name": "stdout",
          "text": [
            "<class 'pandas.core.frame.DataFrame'>\n",
            "RangeIndex: 7043 entries, 0 to 7042\n",
            "Data columns (total 8 columns):\n",
            " #   Column           Non-Null Count  Dtype  \n",
            "---  ------           --------------  -----  \n",
            " 0   gender           7043 non-null   object \n",
            " 1   tenure           7043 non-null   int64  \n",
            " 2   PhoneService     7043 non-null   int64  \n",
            " 3   TotalCharges     7043 non-null   float32\n",
            " 4   StreamingMovies  7043 non-null   int32  \n",
            " 5   StreamingTV      7043 non-null   int32  \n",
            " 6   TechSupport      7043 non-null   int32  \n",
            " 7   Churn            7043 non-null   int32  \n",
            "dtypes: float32(1), int32(4), int64(2), object(1)\n",
            "memory usage: 302.8+ KB\n"
          ]
        }
      ]
    },
    {
      "cell_type": "markdown",
      "metadata": {
        "id": "kiCqEokoXsXq"
      },
      "source": [
        "##### 9. Разделите датасет на тренировочную и тестовую выборку (подсказка - воспользуйтесь train_test_split из sklearn.model_selection. Ссылка - https://scikit-learn.org/stable/modules/generated/sklearn.model_selection.train_test_split.html)"
      ]
    },
    {
      "cell_type": "code",
      "metadata": {
        "id": "VVUaoauPXsXq"
      },
      "source": [
        "from sklearn.model_selection import train_test_split\n",
        "\n",
        "features = ['gender', 'tenure', 'PhoneService', 'TotalCharges', 'StreamingMovies', 'StreamingTV', 'TechSupport']\n",
        "target = 'Churn'\n",
        "\n",
        "\n",
        "X_train, X_test, y_train, y_test = train_test_split(df[features], df[target], test_size=0.33, random_state=42)"
      ],
      "execution_count": 17,
      "outputs": []
    },
    {
      "cell_type": "markdown",
      "metadata": {
        "id": "sh2_rcUGXsXq"
      },
      "source": [
        "##### 10. соберите pipeline для поля gender (нужно разобраться и изучить https://scikit-learn.org/stable/modules/generated/sklearn.pipeline.Pipeline.html ) из классов ColumnSelector и OHEEncoder, которые уже написаны ниже заранее"
      ]
    },
    {
      "cell_type": "code",
      "metadata": {
        "id": "pUcc_PFPXsXq"
      },
      "source": [
        "from sklearn.base import BaseEstimator, TransformerMixin\n",
        "from sklearn.pipeline import Pipeline\n",
        "\n",
        "class ColumnSelector(BaseEstimator, TransformerMixin):\n",
        "    \"\"\"\n",
        "    Transformer to select a single column from the data frame to perform additional transformations on\n",
        "    \"\"\"\n",
        "    def __init__(self, key):\n",
        "        self.key = key\n",
        "\n",
        "    def fit(self, X, y=None):\n",
        "        return self\n",
        "\n",
        "    def transform(self, X):\n",
        "        return X[self.key]\n",
        "    \n",
        "class NumberSelector(BaseEstimator, TransformerMixin):\n",
        "    \"\"\"\n",
        "    Transformer to select a single column from the data frame to perform additional transformations on\n",
        "    Use on numeric columns in the data\n",
        "    \"\"\"\n",
        "    def __init__(self, key):\n",
        "        self.key = key\n",
        "\n",
        "    def fit(self, X, y=None):\n",
        "        return self\n",
        "\n",
        "    def transform(self, X):\n",
        "        return X[[self.key]]\n",
        "    \n",
        "class OHEEncoder(BaseEstimator, TransformerMixin):\n",
        "    def __init__(self, key):\n",
        "        self.key = key\n",
        "        self.columns = []\n",
        "\n",
        "    def fit(self, X, y=None):\n",
        "        self.columns = [col for col in pd.get_dummies(X, prefix=self.key).columns]\n",
        "        return self\n",
        "\n",
        "    def transform(self, X):\n",
        "        X = pd.get_dummies(X, prefix=self.key)\n",
        "        test_columns = [col for col in X.columns]\n",
        "        for col_ in test_columns:\n",
        "            if col_ not in self.columns:\n",
        "                X[col_] = 0\n",
        "        return X[self.columns]\n",
        "\n",
        "gender = Pipeline([\n",
        "                ('selector', ColumnSelector(key='gender')),\n",
        "                ('ohe', OHEEncoder(key='gender'))\n",
        "            ])"
      ],
      "execution_count": 18,
      "outputs": []
    },
    {
      "cell_type": "markdown",
      "metadata": {
        "id": "wN4nIqBfXsXr"
      },
      "source": [
        "##### 11. Вызовите метод fit_transform у пайплайна gender и передайте туда нашу тренировочную выборку (пример по ссылке из документации https://scikit-learn.org/stable/modules/generated/sklearn.pipeline.Pipeline.html#sklearn.pipeline.Pipeline.fit)"
      ]
    },
    {
      "cell_type": "code",
      "metadata": {
        "colab": {
          "base_uri": "https://localhost:8080/",
          "height": 419
        },
        "id": "lUji2_XbXsXr",
        "outputId": "2af51edd-b385-4ff3-ba2a-59b665195a28"
      },
      "source": [
        "gender.fit_transform(X_train)\n"
      ],
      "execution_count": 19,
      "outputs": [
        {
          "output_type": "execute_result",
          "data": {
            "text/html": [
              "<div>\n",
              "<style scoped>\n",
              "    .dataframe tbody tr th:only-of-type {\n",
              "        vertical-align: middle;\n",
              "    }\n",
              "\n",
              "    .dataframe tbody tr th {\n",
              "        vertical-align: top;\n",
              "    }\n",
              "\n",
              "    .dataframe thead th {\n",
              "        text-align: right;\n",
              "    }\n",
              "</style>\n",
              "<table border=\"1\" class=\"dataframe\">\n",
              "  <thead>\n",
              "    <tr style=\"text-align: right;\">\n",
              "      <th></th>\n",
              "      <th>gender_Female</th>\n",
              "      <th>gender_Male</th>\n",
              "    </tr>\n",
              "  </thead>\n",
              "  <tbody>\n",
              "    <tr>\n",
              "      <th>298</th>\n",
              "      <td>0</td>\n",
              "      <td>1</td>\n",
              "    </tr>\n",
              "    <tr>\n",
              "      <th>3318</th>\n",
              "      <td>0</td>\n",
              "      <td>1</td>\n",
              "    </tr>\n",
              "    <tr>\n",
              "      <th>5586</th>\n",
              "      <td>1</td>\n",
              "      <td>0</td>\n",
              "    </tr>\n",
              "    <tr>\n",
              "      <th>6654</th>\n",
              "      <td>1</td>\n",
              "      <td>0</td>\n",
              "    </tr>\n",
              "    <tr>\n",
              "      <th>5362</th>\n",
              "      <td>0</td>\n",
              "      <td>1</td>\n",
              "    </tr>\n",
              "    <tr>\n",
              "      <th>...</th>\n",
              "      <td>...</td>\n",
              "      <td>...</td>\n",
              "    </tr>\n",
              "    <tr>\n",
              "      <th>3772</th>\n",
              "      <td>0</td>\n",
              "      <td>1</td>\n",
              "    </tr>\n",
              "    <tr>\n",
              "      <th>5191</th>\n",
              "      <td>1</td>\n",
              "      <td>0</td>\n",
              "    </tr>\n",
              "    <tr>\n",
              "      <th>5226</th>\n",
              "      <td>0</td>\n",
              "      <td>1</td>\n",
              "    </tr>\n",
              "    <tr>\n",
              "      <th>5390</th>\n",
              "      <td>0</td>\n",
              "      <td>1</td>\n",
              "    </tr>\n",
              "    <tr>\n",
              "      <th>860</th>\n",
              "      <td>0</td>\n",
              "      <td>1</td>\n",
              "    </tr>\n",
              "  </tbody>\n",
              "</table>\n",
              "<p>4718 rows × 2 columns</p>\n",
              "</div>"
            ],
            "text/plain": [
              "      gender_Female  gender_Male\n",
              "298               0            1\n",
              "3318              0            1\n",
              "5586              1            0\n",
              "6654              1            0\n",
              "5362              0            1\n",
              "...             ...          ...\n",
              "3772              0            1\n",
              "5191              1            0\n",
              "5226              0            1\n",
              "5390              0            1\n",
              "860               0            1\n",
              "\n",
              "[4718 rows x 2 columns]"
            ]
          },
          "metadata": {},
          "execution_count": 19
        }
      ]
    },
    {
      "cell_type": "code",
      "metadata": {
        "colab": {
          "base_uri": "https://localhost:8080/",
          "height": 419
        },
        "id": "C2tBI_Bu8sg_",
        "outputId": "1dcce6a9-115d-4d91-bf00-50a56324fcf8"
      },
      "source": [
        "gender.fit_transform(X_test)"
      ],
      "execution_count": 20,
      "outputs": [
        {
          "output_type": "execute_result",
          "data": {
            "text/html": [
              "<div>\n",
              "<style scoped>\n",
              "    .dataframe tbody tr th:only-of-type {\n",
              "        vertical-align: middle;\n",
              "    }\n",
              "\n",
              "    .dataframe tbody tr th {\n",
              "        vertical-align: top;\n",
              "    }\n",
              "\n",
              "    .dataframe thead th {\n",
              "        text-align: right;\n",
              "    }\n",
              "</style>\n",
              "<table border=\"1\" class=\"dataframe\">\n",
              "  <thead>\n",
              "    <tr style=\"text-align: right;\">\n",
              "      <th></th>\n",
              "      <th>gender_Female</th>\n",
              "      <th>gender_Male</th>\n",
              "    </tr>\n",
              "  </thead>\n",
              "  <tbody>\n",
              "    <tr>\n",
              "      <th>185</th>\n",
              "      <td>1</td>\n",
              "      <td>0</td>\n",
              "    </tr>\n",
              "    <tr>\n",
              "      <th>2715</th>\n",
              "      <td>0</td>\n",
              "      <td>1</td>\n",
              "    </tr>\n",
              "    <tr>\n",
              "      <th>3825</th>\n",
              "      <td>1</td>\n",
              "      <td>0</td>\n",
              "    </tr>\n",
              "    <tr>\n",
              "      <th>1807</th>\n",
              "      <td>1</td>\n",
              "      <td>0</td>\n",
              "    </tr>\n",
              "    <tr>\n",
              "      <th>132</th>\n",
              "      <td>0</td>\n",
              "      <td>1</td>\n",
              "    </tr>\n",
              "    <tr>\n",
              "      <th>...</th>\n",
              "      <td>...</td>\n",
              "      <td>...</td>\n",
              "    </tr>\n",
              "    <tr>\n",
              "      <th>4147</th>\n",
              "      <td>0</td>\n",
              "      <td>1</td>\n",
              "    </tr>\n",
              "    <tr>\n",
              "      <th>3542</th>\n",
              "      <td>0</td>\n",
              "      <td>1</td>\n",
              "    </tr>\n",
              "    <tr>\n",
              "      <th>3759</th>\n",
              "      <td>0</td>\n",
              "      <td>1</td>\n",
              "    </tr>\n",
              "    <tr>\n",
              "      <th>1114</th>\n",
              "      <td>0</td>\n",
              "      <td>1</td>\n",
              "    </tr>\n",
              "    <tr>\n",
              "      <th>4958</th>\n",
              "      <td>1</td>\n",
              "      <td>0</td>\n",
              "    </tr>\n",
              "  </tbody>\n",
              "</table>\n",
              "<p>2325 rows × 2 columns</p>\n",
              "</div>"
            ],
            "text/plain": [
              "      gender_Female  gender_Male\n",
              "185               1            0\n",
              "2715              0            1\n",
              "3825              1            0\n",
              "1807              1            0\n",
              "132               0            1\n",
              "...             ...          ...\n",
              "4147              0            1\n",
              "3542              0            1\n",
              "3759              0            1\n",
              "1114              0            1\n",
              "4958              1            0\n",
              "\n",
              "[2325 rows x 2 columns]"
            ]
          },
          "metadata": {},
          "execution_count": 20
        }
      ]
    },
    {
      "cell_type": "markdown",
      "metadata": {
        "id": "Usv2enNEXsXr"
      },
      "source": [
        "##### 12. Здесь код писать уже не нужно (все сделано за вас). К полю tenure применяем StandardScaler (нормируем и центрируем). Ссылка - https://scikit-learn.org/stable/modules/generated/sklearn.preprocessing.StandardScaler.html\n",
        "Вопрос - в каких случаях это может быть полезно?"
      ]
    },
    {
      "cell_type": "code",
      "metadata": {
        "id": "KNMfNdJoXsXr"
      },
      "source": [
        "from sklearn.preprocessing import StandardScaler\n",
        "\n",
        "tenure =  Pipeline([\n",
        "                ('selector', NumberSelector(key='tenure')),\n",
        "                ('standard', StandardScaler())\n",
        "            ])"
      ],
      "execution_count": 21,
      "outputs": []
    },
    {
      "cell_type": "markdown",
      "metadata": {
        "id": "kgKoTRG0XsXs"
      },
      "source": [
        "##### 13. Напишите аналогичный (как для tenure) преобразователь поля TotalCharges"
      ]
    },
    {
      "cell_type": "code",
      "metadata": {
        "id": "pW1FA-rCXsXs"
      },
      "source": [
        "from sklearn.preprocessing import StandardScaler\n",
        "\n",
        "TotalCharges =  Pipeline([\n",
        "                ('selector', NumberSelector(key='TotalCharges')),\n",
        "                ('standard', StandardScaler())\n",
        "            ])\n"
      ],
      "execution_count": 22,
      "outputs": []
    },
    {
      "cell_type": "markdown",
      "metadata": {
        "id": "djtp9EDmXsXs"
      },
      "source": [
        "Объединение всех \"кубиков\" очень легко сделать таким образом"
      ]
    },
    {
      "cell_type": "code",
      "metadata": {
        "id": "64Z-K4lPXsXt"
      },
      "source": [
        "from sklearn.pipeline import FeatureUnion\n",
        "\n",
        "number_features = Pipeline([\n",
        "                ('selector', ColumnSelector(key=['PhoneService',\n",
        "                                                 'StreamingMovies', 'StreamingTV', \n",
        "                                                 'TechSupport']))\n",
        "            ])"
      ],
      "execution_count": 23,
      "outputs": []
    },
    {
      "cell_type": "code",
      "metadata": {
        "id": "CPYYOid7XsXt"
      },
      "source": [
        "feats = FeatureUnion([('tenure', tenure),\n",
        "                      ('TotalCharges', TotalCharges),\n",
        "                      ('continuos_features', number_features),\n",
        "                      ('gender', gender)])\n",
        "feature_processing = Pipeline([('feats', feats)])"
      ],
      "execution_count": 24,
      "outputs": []
    },
    {
      "cell_type": "markdown",
      "metadata": {
        "id": "PycYZxdXXsXt"
      },
      "source": [
        "На этом этапе что мы сделали:\n",
        "1. написали преобразователь поля gender, который делает OHE кодирование\n",
        "2. написали преобразователь для поля tenure, который нормирует и центрирует его \n",
        "3. повторили п. 2 для поля TotalCharges\n",
        "3. для всех остальных просто взяли признаки как они есть, без изменений"
      ]
    },
    {
      "cell_type": "markdown",
      "metadata": {
        "id": "dCYwTWJBXsXu"
      },
      "source": [
        "У нас уже готов наш пайплайн, который преобразовывает признаки. Давайте обучим модель поверх него. В качестве модели возьмем RandomForestClassifier"
      ]
    },
    {
      "cell_type": "code",
      "metadata": {
        "colab": {
          "base_uri": "https://localhost:8080/"
        },
        "id": "0iJMT4dmXsXu",
        "outputId": "88031948-0bd8-427e-ce60-43207854f91f"
      },
      "source": [
        "from sklearn.ensemble import RandomForestClassifier\n",
        "\n",
        "pipeline = Pipeline([\n",
        "    ('features',feats),\n",
        "    ('classifier', RandomForestClassifier(random_state = 42)),\n",
        "])\n",
        "\n",
        "pipeline.fit(X_train, y_train)"
      ],
      "execution_count": 25,
      "outputs": [
        {
          "output_type": "execute_result",
          "data": {
            "text/plain": [
              "Pipeline(memory=None,\n",
              "         steps=[('features',\n",
              "                 FeatureUnion(n_jobs=None,\n",
              "                              transformer_list=[('tenure',\n",
              "                                                 Pipeline(memory=None,\n",
              "                                                          steps=[('selector',\n",
              "                                                                  NumberSelector(key='tenure')),\n",
              "                                                                 ('standard',\n",
              "                                                                  StandardScaler(copy=True,\n",
              "                                                                                 with_mean=True,\n",
              "                                                                                 with_std=True))],\n",
              "                                                          verbose=False)),\n",
              "                                                ('TotalCharges',\n",
              "                                                 Pipeline(memory=None,\n",
              "                                                          steps=[('selector',\n",
              "                                                                  NumberSelector(key='TotalCharges')),\n",
              "                                                                 ('standard...\n",
              "                 RandomForestClassifier(bootstrap=True, ccp_alpha=0.0,\n",
              "                                        class_weight=None, criterion='gini',\n",
              "                                        max_depth=None, max_features='auto',\n",
              "                                        max_leaf_nodes=None, max_samples=None,\n",
              "                                        min_impurity_decrease=0.0,\n",
              "                                        min_impurity_split=None,\n",
              "                                        min_samples_leaf=1, min_samples_split=2,\n",
              "                                        min_weight_fraction_leaf=0.0,\n",
              "                                        n_estimators=100, n_jobs=None,\n",
              "                                        oob_score=False, random_state=42,\n",
              "                                        verbose=0, warm_start=False))],\n",
              "         verbose=False)"
            ]
          },
          "metadata": {},
          "execution_count": 25
        }
      ]
    },
    {
      "cell_type": "markdown",
      "metadata": {
        "id": "BZZiS-XMXsXu"
      },
      "source": [
        "##### 14. Сделайте прогноз вероятности оттока для X_test с помощью нашего предобученного на предыдущем шаге пайплайна и убедитесь что вам возвращаются вероятности для 2 классов"
      ]
    },
    {
      "cell_type": "code",
      "metadata": {
        "colab": {
          "base_uri": "https://localhost:8080/"
        },
        "id": "YlR_yGSeXsXu",
        "outputId": "1f725f5b-8b4b-41e7-a303-40724c0a9062"
      },
      "source": [
        "predictions = pipeline.predict_proba(X_test)\n",
        "predictions"
      ],
      "execution_count": 26,
      "outputs": [
        {
          "output_type": "execute_result",
          "data": {
            "text/plain": [
              "array([[0.26, 0.74],\n",
              "       [1.  , 0.  ],\n",
              "       [0.99, 0.01],\n",
              "       ...,\n",
              "       [0.24, 0.76],\n",
              "       [0.13, 0.87],\n",
              "       [0.8 , 0.2 ]])"
            ]
          },
          "metadata": {},
          "execution_count": 26
        }
      ]
    },
    {
      "cell_type": "markdown",
      "metadata": {
        "id": "6fvAjchcXsXu"
      },
      "source": [
        "##### 15. Посчитайте метрики качества получившейся модели (roc_auc, logloss)"
      ]
    },
    {
      "cell_type": "code",
      "metadata": {
        "colab": {
          "base_uri": "https://localhost:8080/"
        },
        "id": "VQv9rHD7XsXv",
        "outputId": "52aa35bd-bbd2-4f36-faf6-9a41b60353b5"
      },
      "source": [
        "from sklearn.metrics import roc_auc_score, log_loss\n",
        "\n",
        "\n",
        "pred = pipeline.predict(X_test)\n",
        "roc = roc_auc_score(y_test.astype('int64'), pred)\n",
        "\n",
        "roc"
      ],
      "execution_count": 27,
      "outputs": [
        {
          "output_type": "execute_result",
          "data": {
            "text/plain": [
              "0.6786033990293849"
            ]
          },
          "metadata": {},
          "execution_count": 27
        }
      ]
    },
    {
      "cell_type": "code",
      "metadata": {
        "colab": {
          "base_uri": "https://localhost:8080/"
        },
        "id": "nW1cS7lZxH3B",
        "outputId": "163820ff-564f-402e-ac77-5d19fccd76bf"
      },
      "source": [
        "log_lss = log_loss(y_test.astype('int64'), pred)\n",
        "log_lss"
      ],
      "execution_count": 28,
      "outputs": [
        {
          "output_type": "execute_result",
          "data": {
            "text/plain": [
              "8.036839716940413"
            ]
          },
          "metadata": {},
          "execution_count": 28
        }
      ]
    },
    {
      "cell_type": "markdown",
      "metadata": {
        "id": "VVnrXB4nXsXv"
      },
      "source": [
        "### Сохраним наш пайплайн"
      ]
    },
    {
      "cell_type": "code",
      "metadata": {
        "id": "kGy7U7czXsXv"
      },
      "source": [
        "import dill\n",
        "with open(\"model_RF.dill\", \"wb\") as f:\n",
        "    dill.dump(pipeline, f)"
      ],
      "execution_count": 30,
      "outputs": []
    }
  ]
}