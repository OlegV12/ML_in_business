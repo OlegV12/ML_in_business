{
  "nbformat": 4,
  "nbformat_minor": 0,
  "metadata": {
    "colab": {
      "name": "HW5.ipynb",
      "provenance": [],
      "authorship_tag": "ABX9TyNq6bJhvm3z+Pbepw7EDF93",
      "include_colab_link": true
    },
    "kernelspec": {
      "name": "python3",
      "display_name": "Python 3"
    },
    "language_info": {
      "name": "python"
    }
  },
  "cells": [
    {
      "cell_type": "markdown",
      "metadata": {
        "id": "view-in-github",
        "colab_type": "text"
      },
      "source": [
        "<a href=\"https://colab.research.google.com/github/OlegV12/ML_in_business/blob/Lesson_5/HW5.ipynb\" target=\"_parent\"><img src=\"https://colab.research.google.com/assets/colab-badge.svg\" alt=\"Open In Colab\"/></a>"
      ]
    },
    {
      "cell_type": "markdown",
      "metadata": {
        "id": "wG0rluxE1XjA"
      },
      "source": [
        "1. Для нашего пайплайна (Case1) поэкспериментировать с разными моделями: 1 - бустинг, 2 - логистическая регрессия (не забудьте здесь добавить в cont_transformer стандартизацию - нормирование вещественных признаков)\n",
        "2. Отобрать лучшую модель по метрикам (кстати, какая по вашему мнению здесь наиболее подходящая DS-метрика)\n",
        "3. Для отобранной модели (на отложенной выборке) сделать оценку экономической эффективности при тех же вводных, как в вопросе 2 (1 доллар на привлечение, 2 доллара - с каждого правильно классифицированного (True Positive) удержанного). (подсказка) нужно посчитать FP/TP/FN/TN для выбранного оптимального порога вероятности и посчитать выручку и траты.\n",
        "4. (опционально) Провести подбор гиперпараметров лучшей модели по итогам 2-3\n",
        "5. (опционально) Еще раз провести оценку экономической эффективности"
      ]
    },
    {
      "cell_type": "code",
      "metadata": {
        "id": "BRHGzE561Wxo"
      },
      "source": [
        "import pandas as pd\n",
        "import numpy as np\n",
        "from sklearn.pipeline import Pipeline, make_pipeline\n",
        "from sklearn.base import BaseEstimator, TransformerMixin\n",
        "from sklearn.linear_model import LogisticRegression\n",
        "from sklearn.model_selection import train_test_split\n",
        "from sklearn.preprocessing import StandardScaler\n",
        "from sklearn.preprocessing import MinMaxScaler\n",
        "#from sklearn.feature_extraction.text import TfidfVectorizer\n",
        "import itertools\n",
        "from sklearn.ensemble import GradientBoostingClassifier\n",
        "import matplotlib.pyplot as plt\n",
        "\n",
        "%matplotlib inline"
      ],
      "execution_count": 663,
      "outputs": []
    },
    {
      "cell_type": "code",
      "metadata": {
        "colab": {
          "base_uri": "https://localhost:8080/"
        },
        "id": "i9uz2I1E1595",
        "outputId": "5968c74c-b969-444c-9607-30a15c31cf1e"
      },
      "source": [
        "from google.colab import drive\n",
        "drive.mount('/gdrive')"
      ],
      "execution_count": 664,
      "outputs": [
        {
          "output_type": "stream",
          "name": "stdout",
          "text": [
            "Drive already mounted at /gdrive; to attempt to forcibly remount, call drive.mount(\"/gdrive\", force_remount=True).\n"
          ]
        }
      ]
    },
    {
      "cell_type": "code",
      "metadata": {
        "id": "LrddO8qK1_z5"
      },
      "source": [
        "df = pd.read_csv('/gdrive/MyDrive/churn_data.csv')"
      ],
      "execution_count": 665,
      "outputs": []
    },
    {
      "cell_type": "code",
      "metadata": {
        "id": "yU1dODAu3iKU"
      },
      "source": [
        "X_train, X_test, y_train, y_test = train_test_split(df, df['Exited'], random_state=0)"
      ],
      "execution_count": 666,
      "outputs": []
    },
    {
      "cell_type": "code",
      "metadata": {
        "id": "DSMOBKoF3kn7"
      },
      "source": [
        "#соберем наш простой pipeline, но нам понадобится написать класс для выбора нужного поля\n",
        "class FeatureSelector(BaseEstimator, TransformerMixin):\n",
        "    def __init__(self, column):\n",
        "        self.column = column\n",
        "\n",
        "    def fit(self, X, y=None):\n",
        "        return self\n",
        "\n",
        "    def transform(self, X, y=None):\n",
        "        return X[self.column]\n",
        "    \n",
        "class NumberSelector(BaseEstimator, TransformerMixin):\n",
        "    \"\"\"\n",
        "    Transformer to select a single column from the data frame to perform additional transformations on\n",
        "    Use on numeric columns in the data\n",
        "    \"\"\"\n",
        "    def __init__(self, key):\n",
        "        self.key = key\n",
        "\n",
        "    def fit(self, X, y=None):\n",
        "        return self\n",
        "\n",
        "    def transform(self, X):\n",
        "        return X[[self.key]]\n",
        "    \n",
        "class OHEEncoder(BaseEstimator, TransformerMixin):\n",
        "    def __init__(self, key):\n",
        "        self.key = key\n",
        "        self.columns = []\n",
        "\n",
        "    def fit(self, X, y=None):\n",
        "        self.columns = [col for col in pd.get_dummies(X, prefix=self.key).columns]\n",
        "        return self\n",
        "\n",
        "    def transform(self, X):\n",
        "        X = pd.get_dummies(X, prefix=self.key)\n",
        "        test_columns = [col for col in X.columns]\n",
        "        for col_ in self.columns:\n",
        "            if col_ not in test_columns:\n",
        "                X[col_] = 0\n",
        "        return X[self.columns]\n",
        "\n",
        "\n",
        "class Standartizer(BaseEstimator, TransformerMixin):\n",
        "    def __init__(self, key):\n",
        "        self.key = key\n",
        "        self.columns = []\n",
        "\n",
        "    def fit(self, X, y=None):\n",
        "        self.scaler = StandardScaler()\n",
        "        self.scaler.fit(X)\n",
        "        return self\n",
        "\n",
        "    def transform(self, X):\n",
        "        for col_ in self.columns:\n",
        "\n",
        "            X[self.columns] = scaler.transform(X[col_], copy=False)\n",
        "        return X"
      ],
      "execution_count": 667,
      "outputs": []
    },
    {
      "cell_type": "code",
      "metadata": {
        "id": "TQQgkhDt3nkM"
      },
      "source": [
        "categorical_columns = ['Geography', 'Gender', 'Tenure', 'HasCrCard', 'IsActiveMember']\n",
        "continuous_columns = ['CreditScore', 'Age', 'Balance', 'NumOfProducts', 'EstimatedSalary']"
      ],
      "execution_count": 668,
      "outputs": []
    },
    {
      "cell_type": "code",
      "metadata": {
        "colab": {
          "base_uri": "https://localhost:8080/",
          "height": 142
        },
        "id": "K7rv6QTp3qFc",
        "outputId": "02a6c75c-4258-4e3d-91f9-e187e0a570aa"
      },
      "source": [
        "from sklearn.pipeline import Pipeline\n",
        "from sklearn.pipeline import FeatureUnion\n",
        "\n",
        "gender = Pipeline([\n",
        "                ('selector', FeatureSelector(column='Gender')),\n",
        "                ('ohe', OHEEncoder(key='Gender'))\n",
        "            ])\n",
        "gender.fit(X_train)\n",
        "gender.transform(X_test).head(3)"
      ],
      "execution_count": 669,
      "outputs": [
        {
          "output_type": "execute_result",
          "data": {
            "text/html": [
              "<div>\n",
              "<style scoped>\n",
              "    .dataframe tbody tr th:only-of-type {\n",
              "        vertical-align: middle;\n",
              "    }\n",
              "\n",
              "    .dataframe tbody tr th {\n",
              "        vertical-align: top;\n",
              "    }\n",
              "\n",
              "    .dataframe thead th {\n",
              "        text-align: right;\n",
              "    }\n",
              "</style>\n",
              "<table border=\"1\" class=\"dataframe\">\n",
              "  <thead>\n",
              "    <tr style=\"text-align: right;\">\n",
              "      <th></th>\n",
              "      <th>Gender_Female</th>\n",
              "      <th>Gender_Male</th>\n",
              "    </tr>\n",
              "  </thead>\n",
              "  <tbody>\n",
              "    <tr>\n",
              "      <th>9394</th>\n",
              "      <td>1</td>\n",
              "      <td>0</td>\n",
              "    </tr>\n",
              "    <tr>\n",
              "      <th>898</th>\n",
              "      <td>1</td>\n",
              "      <td>0</td>\n",
              "    </tr>\n",
              "    <tr>\n",
              "      <th>2398</th>\n",
              "      <td>1</td>\n",
              "      <td>0</td>\n",
              "    </tr>\n",
              "  </tbody>\n",
              "</table>\n",
              "</div>"
            ],
            "text/plain": [
              "      Gender_Female  Gender_Male\n",
              "9394              1            0\n",
              "898               1            0\n",
              "2398              1            0"
            ]
          },
          "metadata": {},
          "execution_count": 669
        }
      ]
    },
    {
      "cell_type": "code",
      "metadata": {
        "id": "nnBMaon-4Kav"
      },
      "source": [
        "final_transformers = list()\n",
        "\n",
        "for cat_col in categorical_columns:\n",
        "    cat_transformer = Pipeline([\n",
        "                ('selector', FeatureSelector(column=cat_col)),\n",
        "                ('ohe', OHEEncoder(key=cat_col))\n",
        "            ])\n",
        "    final_transformers.append((cat_col, cat_transformer))\n",
        "    \n",
        "for cont_col in continuous_columns:\n",
        "    cont_transformer = Pipeline([\n",
        "                ('selector', NumberSelector(key=cont_col)),\n",
        "                ('std', Standartizer(key=cont_col))\n",
        "            ])\n",
        "    final_transformers.append((cont_col, cont_transformer))"
      ],
      "execution_count": 670,
      "outputs": []
    },
    {
      "cell_type": "code",
      "metadata": {
        "id": "lUAE1XKa1FkJ"
      },
      "source": [
        "feats = FeatureUnion(final_transformers)\n",
        "\n",
        "feature_processing = Pipeline([('feats', feats)])"
      ],
      "execution_count": 671,
      "outputs": []
    },
    {
      "cell_type": "code",
      "metadata": {
        "colab": {
          "base_uri": "https://localhost:8080/"
        },
        "id": "4S9hIStDE_ZM",
        "outputId": "d94715d2-005c-45fa-b575-0b904f554bef"
      },
      "source": [
        "feats"
      ],
      "execution_count": 672,
      "outputs": [
        {
          "output_type": "execute_result",
          "data": {
            "text/plain": [
              "FeatureUnion(n_jobs=None,\n",
              "             transformer_list=[('Geography',\n",
              "                                Pipeline(memory=None,\n",
              "                                         steps=[('selector',\n",
              "                                                 FeatureSelector(column='Geography')),\n",
              "                                                ('ohe',\n",
              "                                                 OHEEncoder(key='Geography'))],\n",
              "                                         verbose=False)),\n",
              "                               ('Gender',\n",
              "                                Pipeline(memory=None,\n",
              "                                         steps=[('selector',\n",
              "                                                 FeatureSelector(column='Gender')),\n",
              "                                                ('ohe',\n",
              "                                                 OHEEncoder(key='Gender'))],\n",
              "                                         verbose=False)),\n",
              "                               ('Tenure',\n",
              "                                Pipeline(memory=None...\n",
              "                               ('NumOfProducts',\n",
              "                                Pipeline(memory=None,\n",
              "                                         steps=[('selector',\n",
              "                                                 NumberSelector(key='NumOfProducts')),\n",
              "                                                ('std',\n",
              "                                                 Standartizer(key='NumOfProducts'))],\n",
              "                                         verbose=False)),\n",
              "                               ('EstimatedSalary',\n",
              "                                Pipeline(memory=None,\n",
              "                                         steps=[('selector',\n",
              "                                                 NumberSelector(key='EstimatedSalary')),\n",
              "                                                ('std',\n",
              "                                                 Standartizer(key='EstimatedSalary'))],\n",
              "                                         verbose=False))],\n",
              "             transformer_weights=None, verbose=False)"
            ]
          },
          "metadata": {},
          "execution_count": 672
        }
      ]
    },
    {
      "cell_type": "code",
      "metadata": {
        "id": "CUfjtPcv1FkJ"
      },
      "source": [
        "from sklearn.ensemble import RandomForestClassifier\n",
        "\n",
        "pipeline = Pipeline([\n",
        "    ('features',feats),\n",
        "    ('classifier', RandomForestClassifier(random_state = 42)),\n",
        "])"
      ],
      "execution_count": 673,
      "outputs": []
    },
    {
      "cell_type": "code",
      "metadata": {
        "scrolled": false,
        "id": "3mHAIVbS1FkK",
        "colab": {
          "base_uri": "https://localhost:8080/"
        },
        "outputId": "122917c3-dd2a-42d4-c400-1ffafa1c5f1b"
      },
      "source": [
        "#обучим наш пайплайн\n",
        "pipeline.fit(X_train, y_train)"
      ],
      "execution_count": 674,
      "outputs": [
        {
          "output_type": "execute_result",
          "data": {
            "text/plain": [
              "Pipeline(memory=None,\n",
              "         steps=[('features',\n",
              "                 FeatureUnion(n_jobs=None,\n",
              "                              transformer_list=[('Geography',\n",
              "                                                 Pipeline(memory=None,\n",
              "                                                          steps=[('selector',\n",
              "                                                                  FeatureSelector(column='Geography')),\n",
              "                                                                 ('ohe',\n",
              "                                                                  OHEEncoder(key='Geography'))],\n",
              "                                                          verbose=False)),\n",
              "                                                ('Gender',\n",
              "                                                 Pipeline(memory=None,\n",
              "                                                          steps=[('selector',\n",
              "                                                                  FeatureSelector(column='Gender')),\n",
              "                                                                 ('ohe',\n",
              "                                                                  OHEEncoder(key='Gender'))],\n",
              "                                                          verbos...\n",
              "                 RandomForestClassifier(bootstrap=True, ccp_alpha=0.0,\n",
              "                                        class_weight=None, criterion='gini',\n",
              "                                        max_depth=None, max_features='auto',\n",
              "                                        max_leaf_nodes=None, max_samples=None,\n",
              "                                        min_impurity_decrease=0.0,\n",
              "                                        min_impurity_split=None,\n",
              "                                        min_samples_leaf=1, min_samples_split=2,\n",
              "                                        min_weight_fraction_leaf=0.0,\n",
              "                                        n_estimators=100, n_jobs=None,\n",
              "                                        oob_score=False, random_state=42,\n",
              "                                        verbose=0, warm_start=False))],\n",
              "         verbose=False)"
            ]
          },
          "metadata": {},
          "execution_count": 674
        }
      ]
    },
    {
      "cell_type": "code",
      "metadata": {
        "id": "fOpVVs0U1FkK"
      },
      "source": [
        "#наши прогнозы для тестовой выборки\n",
        "preds = pipeline.predict_proba(X_test)[:, 1]"
      ],
      "execution_count": 675,
      "outputs": []
    },
    {
      "cell_type": "code",
      "metadata": {
        "id": "qNkXWUWz1FkL"
      },
      "source": [
        "from sklearn.metrics import f1_score, roc_auc_score, precision_score, classification_report, precision_recall_curve, confusion_matrix"
      ],
      "execution_count": 676,
      "outputs": []
    },
    {
      "cell_type": "code",
      "metadata": {
        "id": "6WgvqEtp1FkL",
        "colab": {
          "base_uri": "https://localhost:8080/"
        },
        "outputId": "1a25a493-4c43-45f1-8ba5-cdad4d73ffe8"
      },
      "source": [
        "precision, recall, thresholds = precision_recall_curve(y_test, preds)\n",
        "\n",
        "fscore = (2 * precision * recall) / (precision + recall)\n",
        "# locate the index of the largest f score\n",
        "ix = np.argmax(fscore)\n",
        "print('Best Threshold=%f, F-Score=%.3f, Precision=%.3f, Recall=%.3f' % (thresholds[ix], \n",
        "                                                                        fscore[ix],\n",
        "                                                                        precision[ix],\n",
        "                                                                        recall[ix]))"
      ],
      "execution_count": 677,
      "outputs": [
        {
          "output_type": "stream",
          "name": "stdout",
          "text": [
            "Best Threshold=0.380000, F-Score=0.641, Precision=0.653, Recall=0.629\n"
          ]
        }
      ]
    },
    {
      "cell_type": "code",
      "metadata": {
        "id": "rOJ-Ob2_1FkN"
      },
      "source": [
        "def plot_confusion_matrix(cm, classes,\n",
        "                          normalize=False,\n",
        "                          title='Confusion matrix',\n",
        "                          cmap=plt.cm.Blues):\n",
        "    \"\"\"\n",
        "    This function prints and plots the confusion matrix.\n",
        "    Normalization can be applied by setting `normalize=True`.\n",
        "    \"\"\"\n",
        "    plt.imshow(cm, interpolation='nearest', cmap=cmap)\n",
        "    plt.title(title)\n",
        "    plt.colorbar()\n",
        "    tick_marks = np.arange(len(classes))\n",
        "    plt.xticks(tick_marks, classes, rotation=45)\n",
        "    plt.yticks(tick_marks, classes)\n",
        "\n",
        "    if normalize:\n",
        "        cm = cm.astype('float') / cm.sum(axis=1)[:, np.newaxis]\n",
        "        print(\"Normalized confusion matrix\")\n",
        "    else:\n",
        "        print('Confusion matrix, without normalization')\n",
        "\n",
        "    print(cm)\n",
        "\n",
        "    thresh = cm.max() / 2.\n",
        "    for i, j in itertools.product(range(cm.shape[0]), range(cm.shape[1])):\n",
        "        plt.text(j, i, cm[i, j],\n",
        "                 horizontalalignment=\"center\",\n",
        "                 color=\"white\" if cm[i, j] > thresh else \"black\")\n",
        "\n",
        "    plt.tight_layout()\n",
        "    plt.ylabel('True label')\n",
        "    plt.xlabel('Predicted label')"
      ],
      "execution_count": 678,
      "outputs": []
    },
    {
      "cell_type": "code",
      "metadata": {
        "id": "ON0Fs-lu1FkN",
        "colab": {
          "base_uri": "https://localhost:8080/",
          "height": 644
        },
        "outputId": "5eb94b34-9ca2-469b-d1e9-b6fce840b787"
      },
      "source": [
        "#мы уже нашли ранее \"оптимальный\" порог, когда максимизировали f_score\n",
        "font = {'size' : 15}\n",
        "\n",
        "plt.rc('font', **font)\n",
        "\n",
        "rf_cnf_matrix = confusion_matrix(y_test, preds>thresholds[ix])\n",
        "plt.figure(figsize=(10, 8))\n",
        "plot_confusion_matrix(rf_cnf_matrix, classes=['NonChurn', 'Churn'],\n",
        "                      title='Confusion matrix')\n",
        "plt.savefig(\"conf_matrix.png\")\n",
        "plt.show()"
      ],
      "execution_count": 679,
      "outputs": [
        {
          "output_type": "stream",
          "name": "stdout",
          "text": [
            "Confusion matrix, without normalization\n",
            "[[1832  159]\n",
            " [ 195  314]]\n"
          ]
        },
        {
          "output_type": "display_data",
          "data": {
            "image/png": "[encoded data removed]",
            "text/plain": [
              "<Figure size 720x576 with 2 Axes>"
            ]
          },
          "metadata": {
            "needs_background": "light"
          }
        }
      ]
    },
    {
      "cell_type": "code",
      "metadata": {
        "id": "Cn6Dtm7GLFXK"
      },
      "source": [
        "X_train, X_test, y_train, y_test = train_test_split(df, df['Exited'], random_state=0)"
      ],
      "execution_count": 680,
      "outputs": []
    },
    {
      "cell_type": "code",
      "metadata": {
        "id": "6Ue0rpjJEc8M"
      },
      "source": [
        "gbc_pipeline = Pipeline([\n",
        "    ('features',feats),\n",
        "    ('classifier', GradientBoostingClassifier(random_state = 42, n_estimators=1000, learning_rate=0.001, min_samples_leaf=10, max_depth=4,)),\n",
        "])"
      ],
      "execution_count": 681,
      "outputs": []
    },
    {
      "cell_type": "code",
      "metadata": {
        "colab": {
          "base_uri": "https://localhost:8080/"
        },
        "id": "lTpiGjOCEkuY",
        "outputId": "190f6224-91e5-47e8-b82b-3794b76b19b9"
      },
      "source": [
        "gbc_pipeline.fit(X_train, y_train)"
      ],
      "execution_count": 682,
      "outputs": [
        {
          "output_type": "execute_result",
          "data": {
            "text/plain": [
              "Pipeline(memory=None,\n",
              "         steps=[('features',\n",
              "                 FeatureUnion(n_jobs=None,\n",
              "                              transformer_list=[('Geography',\n",
              "                                                 Pipeline(memory=None,\n",
              "                                                          steps=[('selector',\n",
              "                                                                  FeatureSelector(column='Geography')),\n",
              "                                                                 ('ohe',\n",
              "                                                                  OHEEncoder(key='Geography'))],\n",
              "                                                          verbose=False)),\n",
              "                                                ('Gender',\n",
              "                                                 Pipeline(memory=None,\n",
              "                                                          steps=[('selector',\n",
              "                                                                  FeatureSelector(column='Gender')),\n",
              "                                                                 ('ohe',\n",
              "                                                                  OHEEncoder(key='Gender'))],\n",
              "                                                          verbos...\n",
              "                                            loss='deviance', max_depth=4,\n",
              "                                            max_features=None,\n",
              "                                            max_leaf_nodes=None,\n",
              "                                            min_impurity_decrease=0.0,\n",
              "                                            min_impurity_split=None,\n",
              "                                            min_samples_leaf=10,\n",
              "                                            min_samples_split=2,\n",
              "                                            min_weight_fraction_leaf=0.0,\n",
              "                                            n_estimators=1000,\n",
              "                                            n_iter_no_change=None,\n",
              "                                            presort='deprecated',\n",
              "                                            random_state=42, subsample=1.0,\n",
              "                                            tol=0.0001, validation_fraction=0.1,\n",
              "                                            verbose=0, warm_start=False))],\n",
              "         verbose=False)"
            ]
          },
          "metadata": {},
          "execution_count": 682
        }
      ]
    },
    {
      "cell_type": "code",
      "metadata": {
        "colab": {
          "base_uri": "https://localhost:8080/"
        },
        "id": "_mOnMMOvEn_U",
        "outputId": "515add9f-baf4-4833-baea-4183c0151cec"
      },
      "source": [
        "gbc_preds = gbc_pipeline.predict_proba(X_test)[:, 1]\n",
        "gbc_precision, gbc_recall, gbc_thresholds = precision_recall_curve(y_test, gbc_preds)\n",
        "\n",
        "gbc_fscore = (2 * gbc_precision * gbc_recall) / (gbc_precision + gbc_recall)\n",
        "# locate the index of the largest f score\n",
        "gbc_ix = np.argmax(gbc_fscore)\n",
        "print('Best Threshold=%f, F-Score=%.3f, Precision=%.3f, Recall=%.3f' % (gbc_thresholds[gbc_ix], \n",
        "                                                                        gbc_fscore[gbc_ix],\n",
        "                                                                        gbc_precision[gbc_ix],\n",
        "                                                                        gbc_recall[gbc_ix]))"
      ],
      "execution_count": 683,
      "outputs": [
        {
          "output_type": "stream",
          "name": "stdout",
          "text": [
            "Best Threshold=0.280223, F-Score=0.629, Precision=0.617, Recall=0.640\n"
          ]
        }
      ]
    },
    {
      "cell_type": "code",
      "metadata": {
        "id": "GvvXVLp-LJf1"
      },
      "source": [
        "X_train, X_test, y_train, y_test = train_test_split(df, df['Exited'], random_state=0,)"
      ],
      "execution_count": 684,
      "outputs": []
    },
    {
      "cell_type": "code",
      "metadata": {
        "id": "92W0k83lDl1n"
      },
      "source": [
        "lr_pipeline = Pipeline([\n",
        "    ('features',feats),\n",
        "    ('lr', LogisticRegression(random_state = 42,)),\n",
        "])"
      ],
      "execution_count": 685,
      "outputs": []
    },
    {
      "cell_type": "code",
      "metadata": {
        "colab": {
          "base_uri": "https://localhost:8080/"
        },
        "id": "3DzT-2_FD6Eh",
        "outputId": "5162651c-34f4-43e0-ad12-f07585cee735"
      },
      "source": [
        "lr_pipeline.fit(X_train, y_train)"
      ],
      "execution_count": 686,
      "outputs": [
        {
          "output_type": "execute_result",
          "data": {
            "text/plain": [
              "Pipeline(memory=None,\n",
              "         steps=[('features',\n",
              "                 FeatureUnion(n_jobs=None,\n",
              "                              transformer_list=[('Geography',\n",
              "                                                 Pipeline(memory=None,\n",
              "                                                          steps=[('selector',\n",
              "                                                                  FeatureSelector(column='Geography')),\n",
              "                                                                 ('ohe',\n",
              "                                                                  OHEEncoder(key='Geography'))],\n",
              "                                                          verbose=False)),\n",
              "                                                ('Gender',\n",
              "                                                 Pipeline(memory=None,\n",
              "                                                          steps=[('selector',\n",
              "                                                                  FeatureSelector(column='Gender')),\n",
              "                                                                 ('ohe',\n",
              "                                                                  OHEEncoder(key='Gender'))],\n",
              "                                                          verbos...\n",
              "                                                                  Standartizer(key='EstimatedSalary'))],\n",
              "                                                          verbose=False))],\n",
              "                              transformer_weights=None, verbose=False)),\n",
              "                ('lr',\n",
              "                 LogisticRegression(C=1.0, class_weight=None, dual=False,\n",
              "                                    fit_intercept=True, intercept_scaling=1,\n",
              "                                    l1_ratio=None, max_iter=100,\n",
              "                                    multi_class='auto', n_jobs=None,\n",
              "                                    penalty='l2', random_state=42,\n",
              "                                    solver='lbfgs', tol=0.0001, verbose=0,\n",
              "                                    warm_start=False))],\n",
              "         verbose=False)"
            ]
          },
          "metadata": {},
          "execution_count": 686
        }
      ]
    },
    {
      "cell_type": "code",
      "metadata": {
        "colab": {
          "base_uri": "https://localhost:8080/"
        },
        "id": "vJepQigpEUiF",
        "outputId": "595127b2-3cbb-4726-e127-d314ceb8dc5e"
      },
      "source": [
        "lr_preds = lr_pipeline.predict_proba(X_test)[:, 1]\n",
        "lr_precision, lr_recall, lr_thresholds = precision_recall_curve(y_test, lr_preds)\n",
        "\n",
        "lr_fscore = (2 * lr_precision * lr_recall) / (lr_precision + lr_recall + np.nextafter(0, 1))\n",
        "# locate the index of the largest f score\n",
        "lr_ix = np.argmax(lr_fscore)\n",
        "print('Best Threshold=%f, F-Score=%.3f, Precision=%.3f, Recall=%.3f' % (lr_thresholds[lr_ix], \n",
        "                                                                        lr_fscore[lr_ix],\n",
        "                                                                        lr_precision[lr_ix],\n",
        "                                                                        lr_recall[lr_ix]))\n",
        "lr_cnf_matrix = confusion_matrix(y_test, lr_preds>lr_thresholds[lr_ix])"
      ],
      "execution_count": 687,
      "outputs": [
        {
          "output_type": "stream",
          "name": "stdout",
          "text": [
            "Best Threshold=0.199920, F-Score=0.411, Precision=0.296, Recall=0.676\n"
          ]
        }
      ]
    },
    {
      "cell_type": "markdown",
      "metadata": {
        "id": "7gs0rN0SWDjr"
      },
      "source": [
        "Полагаю, что лучшая модель в данном случае это бустинг так как у нее максимальный recall, думаю что именно эта метрика является важной в нашем примере, но и минимальный precision мы иметь не можем, т.к. тогда у нас будут большеи издержки на удержание пользователей которые и так от нас не уходят."
      ]
    },
    {
      "cell_type": "code",
      "metadata": {
        "colab": {
          "base_uri": "https://localhost:8080/",
          "height": 644
        },
        "id": "br71504PY1nh",
        "outputId": "701b3aef-ced2-47c4-ea75-4d2d684164d6"
      },
      "source": [
        "font = {'size' : 15}\n",
        "\n",
        "plt.rc('font', **font)\n",
        "\n",
        "cnf_matrix = confusion_matrix(y_test, gbc_preds>gbc_thresholds[gbc_ix])\n",
        "plt.figure(figsize=(10, 8))\n",
        "plot_confusion_matrix(cnf_matrix, classes=['NonChurn', 'Churn'],\n",
        "                      title='Confusion matrix')\n",
        "plt.show()"
      ],
      "execution_count": 688,
      "outputs": [
        {
          "output_type": "stream",
          "name": "stdout",
          "text": [
            "Confusion matrix, without normalization\n",
            "[[1790  201]\n",
            " [ 184  325]]\n"
          ]
        },
        {
          "output_type": "display_data",
          "data": {
            "image/png": "[encoded data removed]",
            "text/plain": [
              "<Figure size 720x576 with 2 Axes>"
            ]
          },
          "metadata": {
            "needs_background": "light"
          }
        }
      ]
    },
    {
      "cell_type": "code",
      "metadata": {
        "colab": {
          "base_uri": "https://localhost:8080/"
        },
        "id": "DJ70W9CQftu9",
        "outputId": "85754828-6bb7-49d8-fe99-43dc8fed57ed"
      },
      "source": [
        "# посчитаем затраты на компанию \n",
        "cnf_matrix[0][1] + cnf_matrix[1][1]"
      ],
      "execution_count": 689,
      "outputs": [
        {
          "output_type": "execute_result",
          "data": {
            "text/plain": [
              "526"
            ]
          },
          "metadata": {},
          "execution_count": 689
        }
      ]
    },
    {
      "cell_type": "code",
      "metadata": {
        "colab": {
          "base_uri": "https://localhost:8080/"
        },
        "id": "cqg9VIpmgDej",
        "outputId": "7bd37d56-10fe-4cf0-c27e-d5aceceade1d"
      },
      "source": [
        "# вернется нам \n",
        "cnf_matrix[1][1] * 2"
      ],
      "execution_count": 690,
      "outputs": [
        {
          "output_type": "execute_result",
          "data": {
            "text/plain": [
              "650"
            ]
          },
          "metadata": {},
          "execution_count": 690
        }
      ]
    },
    {
      "cell_type": "code",
      "metadata": {
        "colab": {
          "base_uri": "https://localhost:8080/"
        },
        "id": "AihbpoXqgQXu",
        "outputId": "6c951eb7-9e74-4671-8f49-3a45e8a6b27d"
      },
      "source": [
        "# итог\n",
        "(cnf_matrix[1][1] * 2) - (cnf_matrix[0][1] + cnf_matrix[1][1])"
      ],
      "execution_count": 691,
      "outputs": [
        {
          "output_type": "execute_result",
          "data": {
            "text/plain": [
              "124"
            ]
          },
          "metadata": {},
          "execution_count": 691
        }
      ]
    },
    {
      "cell_type": "markdown",
      "metadata": {
        "id": "zdODSkIxhNsE"
      },
      "source": [
        "Сравним с экономическую эффективность других моделей"
      ]
    },
    {
      "cell_type": "code",
      "metadata": {
        "colab": {
          "base_uri": "https://localhost:8080/"
        },
        "id": "wj3l4nG5g5xG",
        "outputId": "65961a9a-f7ae-40e9-d88a-903a0fe58512"
      },
      "source": [
        "# итог по случайному лесу\n",
        "(rf_cnf_matrix[1][1] * 2) - (rf_cnf_matrix[0][1] + rf_cnf_matrix[1][1])"
      ],
      "execution_count": 692,
      "outputs": [
        {
          "output_type": "execute_result",
          "data": {
            "text/plain": [
              "155"
            ]
          },
          "metadata": {},
          "execution_count": 692
        }
      ]
    },
    {
      "cell_type": "code",
      "metadata": {
        "colab": {
          "base_uri": "https://localhost:8080/"
        },
        "id": "JYFQGtUTho88",
        "outputId": "4d059f91-8010-4efe-bdb5-9b4a9881d1e2"
      },
      "source": [
        "# итог по логистической регрессии\n",
        "(lr_cnf_matrix[1][1] * 2) - (lr_cnf_matrix[0][1] + lr_cnf_matrix[1][1])"
      ],
      "execution_count": 693,
      "outputs": [
        {
          "output_type": "execute_result",
          "data": {
            "text/plain": [
              "-476"
            ]
          },
          "metadata": {},
          "execution_count": 693
        }
      ]
    },
    {
      "cell_type": "markdown",
      "metadata": {
        "id": "QDeqHm4fiZlB"
      },
      "source": [
        "В плане экономики (именно для заданных параметров 1usd на превлечение и 2usd c удержанного пользователя), лучше оказалась модель случайного леса. (но мы не знаем стоимость ушедшего пользователя) "
      ]
    }
  ]
}