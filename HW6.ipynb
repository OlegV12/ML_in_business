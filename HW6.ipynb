{
  "nbformat": 4,
  "nbformat_minor": 0,
  "metadata": {
    "colab": {
      "name": "HW6.ipynb",
      "provenance": [],
      "authorship_tag": "ABX9TyMGSMJgoZKtwMBQFPrSY9zV",
      "include_colab_link": true
    },
    "kernelspec": {
      "name": "python3",
      "display_name": "Python 3"
    },
    "language_info": {
      "name": "python"
    }
  },
  "cells": [
    {
      "cell_type": "markdown",
      "metadata": {
        "id": "view-in-github",
        "colab_type": "text"
      },
      "source": [
        "<a href=\"https://colab.research.google.com/github/OlegV12/ML_in_business/blob/Lesson_6/HW6.ipynb\" target=\"_parent\"><img src=\"https://colab.research.google.com/assets/colab-badge.svg\" alt=\"Open In Colab\"/></a>"
      ]
    },
    {
      "cell_type": "markdown",
      "metadata": {
        "id": "qrClWRv7osB3"
      },
      "source": [
        "Домашнее задание\n",
        "1. взять любой набор данных для бинарной классификации (можно скачать один из модельных с https://archive.ics.uci.edu/ml/datasets.php)\n",
        "2. сделать feature engineering\n",
        "3. обучить любой классификатор (какой вам нравится)\n",
        "4. далее разделить ваш набор данных на два множества: P (positives) и U (unlabeled). Причем брать нужно не все положительные (класс 1) примеры, а только лишь часть\n",
        "5. применить random negative sampling для построения классификатора в новых условиях\n",
        "6. сравнить качество с решением из пункта 4 (построить отчет - таблицу метрик)\n",
        "7. поэкспериментировать с долей P на шаге 5 (как будет меняться качество модели при уменьшении/увеличении размера P)"
      ]
    },
    {
      "cell_type": "code",
      "metadata": {
        "id": "JRaK9zIqoiOC"
      },
      "source": [
        "import pandas as pd\n",
        "import numpy as np\n",
        "from sklearn.datasets import load_breast_cancer\n",
        "from sklearn.tree import DecisionTreeClassifier\n",
        "from sklearn.model_selection import train_test_split\n",
        "from sklearn.metrics import recall_score, precision_score, roc_auc_score, accuracy_score, f1_score\n"
      ],
      "execution_count": 456,
      "outputs": []
    },
    {
      "cell_type": "code",
      "metadata": {
        "id": "SUW-qd4ZCW0s"
      },
      "source": [
        "def evaluate_results(y_test, y_predict):\n",
        "    f1 = f1_score(y_test, y_predict)\n",
        "    roc = roc_auc_score(y_test, y_predict)\n",
        "    rec = recall_score(y_test, y_predict, average='binary')\n",
        "    prc = precision_score(y_test, y_predict, average='binary')\n",
        "    \n",
        "    return f1, roc, rec, prc"
      ],
      "execution_count": 457,
      "outputs": []
    },
    {
      "cell_type": "code",
      "metadata": {
        "id": "gVnujLmILZkS"
      },
      "source": [
        "results = {\n",
        "    'method': [],\n",
        "    'f1': [],\n",
        "    'roc': [],\n",
        "    'rec': [],\n",
        "    'prc': [],\n",
        "}"
      ],
      "execution_count": 458,
      "outputs": []
    },
    {
      "cell_type": "code",
      "metadata": {
        "colab": {
          "base_uri": "https://localhost:8080/",
          "height": 258
        },
        "id": "ItERKdLwo-AF",
        "outputId": "210ad6c7-ff39-433f-e2f6-84dad7d6ddee"
      },
      "source": [
        "data = load_breast_cancer()\n",
        "df = pd.DataFrame(data.data, columns=data.feature_names)\n",
        "df['target'] = data.target\n",
        "\n",
        "df.head()"
      ],
      "execution_count": 459,
      "outputs": [
        {
          "output_type": "execute_result",
          "data": {
            "text/html": [
              "<div>\n",
              "<style scoped>\n",
              "    .dataframe tbody tr th:only-of-type {\n",
              "        vertical-align: middle;\n",
              "    }\n",
              "\n",
              "    .dataframe tbody tr th {\n",
              "        vertical-align: top;\n",
              "    }\n",
              "\n",
              "    .dataframe thead th {\n",
              "        text-align: right;\n",
              "    }\n",
              "</style>\n",
              "<table border=\"1\" class=\"dataframe\">\n",
              "  <thead>\n",
              "    <tr style=\"text-align: right;\">\n",
              "      <th></th>\n",
              "      <th>mean radius</th>\n",
              "      <th>mean texture</th>\n",
              "      <th>mean perimeter</th>\n",
              "      <th>mean area</th>\n",
              "      <th>mean smoothness</th>\n",
              "      <th>mean compactness</th>\n",
              "      <th>mean concavity</th>\n",
              "      <th>mean concave points</th>\n",
              "      <th>mean symmetry</th>\n",
              "      <th>mean fractal dimension</th>\n",
              "      <th>radius error</th>\n",
              "      <th>texture error</th>\n",
              "      <th>perimeter error</th>\n",
              "      <th>area error</th>\n",
              "      <th>smoothness error</th>\n",
              "      <th>compactness error</th>\n",
              "      <th>concavity error</th>\n",
              "      <th>concave points error</th>\n",
              "      <th>symmetry error</th>\n",
              "      <th>fractal dimension error</th>\n",
              "      <th>worst radius</th>\n",
              "      <th>worst texture</th>\n",
              "      <th>worst perimeter</th>\n",
              "      <th>worst area</th>\n",
              "      <th>worst smoothness</th>\n",
              "      <th>worst compactness</th>\n",
              "      <th>worst concavity</th>\n",
              "      <th>worst concave points</th>\n",
              "      <th>worst symmetry</th>\n",
              "      <th>worst fractal dimension</th>\n",
              "      <th>target</th>\n",
              "    </tr>\n",
              "  </thead>\n",
              "  <tbody>\n",
              "    <tr>\n",
              "      <th>0</th>\n",
              "      <td>17.99</td>\n",
              "      <td>10.38</td>\n",
              "      <td>122.80</td>\n",
              "      <td>1001.0</td>\n",
              "      <td>0.11840</td>\n",
              "      <td>0.27760</td>\n",
              "      <td>0.3001</td>\n",
              "      <td>0.14710</td>\n",
              "      <td>0.2419</td>\n",
              "      <td>0.07871</td>\n",
              "      <td>1.0950</td>\n",
              "      <td>0.9053</td>\n",
              "      <td>8.589</td>\n",
              "      <td>153.40</td>\n",
              "      <td>0.006399</td>\n",
              "      <td>0.04904</td>\n",
              "      <td>0.05373</td>\n",
              "      <td>0.01587</td>\n",
              "      <td>0.03003</td>\n",
              "      <td>0.006193</td>\n",
              "      <td>25.38</td>\n",
              "      <td>17.33</td>\n",
              "      <td>184.60</td>\n",
              "      <td>2019.0</td>\n",
              "      <td>0.1622</td>\n",
              "      <td>0.6656</td>\n",
              "      <td>0.7119</td>\n",
              "      <td>0.2654</td>\n",
              "      <td>0.4601</td>\n",
              "      <td>0.11890</td>\n",
              "      <td>0</td>\n",
              "    </tr>\n",
              "    <tr>\n",
              "      <th>1</th>\n",
              "      <td>20.57</td>\n",
              "      <td>17.77</td>\n",
              "      <td>132.90</td>\n",
              "      <td>1326.0</td>\n",
              "      <td>0.08474</td>\n",
              "      <td>0.07864</td>\n",
              "      <td>0.0869</td>\n",
              "      <td>0.07017</td>\n",
              "      <td>0.1812</td>\n",
              "      <td>0.05667</td>\n",
              "      <td>0.5435</td>\n",
              "      <td>0.7339</td>\n",
              "      <td>3.398</td>\n",
              "      <td>74.08</td>\n",
              "      <td>0.005225</td>\n",
              "      <td>0.01308</td>\n",
              "      <td>0.01860</td>\n",
              "      <td>0.01340</td>\n",
              "      <td>0.01389</td>\n",
              "      <td>0.003532</td>\n",
              "      <td>24.99</td>\n",
              "      <td>23.41</td>\n",
              "      <td>158.80</td>\n",
              "      <td>1956.0</td>\n",
              "      <td>0.1238</td>\n",
              "      <td>0.1866</td>\n",
              "      <td>0.2416</td>\n",
              "      <td>0.1860</td>\n",
              "      <td>0.2750</td>\n",
              "      <td>0.08902</td>\n",
              "      <td>0</td>\n",
              "    </tr>\n",
              "    <tr>\n",
              "      <th>2</th>\n",
              "      <td>19.69</td>\n",
              "      <td>21.25</td>\n",
              "      <td>130.00</td>\n",
              "      <td>1203.0</td>\n",
              "      <td>0.10960</td>\n",
              "      <td>0.15990</td>\n",
              "      <td>0.1974</td>\n",
              "      <td>0.12790</td>\n",
              "      <td>0.2069</td>\n",
              "      <td>0.05999</td>\n",
              "      <td>0.7456</td>\n",
              "      <td>0.7869</td>\n",
              "      <td>4.585</td>\n",
              "      <td>94.03</td>\n",
              "      <td>0.006150</td>\n",
              "      <td>0.04006</td>\n",
              "      <td>0.03832</td>\n",
              "      <td>0.02058</td>\n",
              "      <td>0.02250</td>\n",
              "      <td>0.004571</td>\n",
              "      <td>23.57</td>\n",
              "      <td>25.53</td>\n",
              "      <td>152.50</td>\n",
              "      <td>1709.0</td>\n",
              "      <td>0.1444</td>\n",
              "      <td>0.4245</td>\n",
              "      <td>0.4504</td>\n",
              "      <td>0.2430</td>\n",
              "      <td>0.3613</td>\n",
              "      <td>0.08758</td>\n",
              "      <td>0</td>\n",
              "    </tr>\n",
              "    <tr>\n",
              "      <th>3</th>\n",
              "      <td>11.42</td>\n",
              "      <td>20.38</td>\n",
              "      <td>77.58</td>\n",
              "      <td>386.1</td>\n",
              "      <td>0.14250</td>\n",
              "      <td>0.28390</td>\n",
              "      <td>0.2414</td>\n",
              "      <td>0.10520</td>\n",
              "      <td>0.2597</td>\n",
              "      <td>0.09744</td>\n",
              "      <td>0.4956</td>\n",
              "      <td>1.1560</td>\n",
              "      <td>3.445</td>\n",
              "      <td>27.23</td>\n",
              "      <td>0.009110</td>\n",
              "      <td>0.07458</td>\n",
              "      <td>0.05661</td>\n",
              "      <td>0.01867</td>\n",
              "      <td>0.05963</td>\n",
              "      <td>0.009208</td>\n",
              "      <td>14.91</td>\n",
              "      <td>26.50</td>\n",
              "      <td>98.87</td>\n",
              "      <td>567.7</td>\n",
              "      <td>0.2098</td>\n",
              "      <td>0.8663</td>\n",
              "      <td>0.6869</td>\n",
              "      <td>0.2575</td>\n",
              "      <td>0.6638</td>\n",
              "      <td>0.17300</td>\n",
              "      <td>0</td>\n",
              "    </tr>\n",
              "    <tr>\n",
              "      <th>4</th>\n",
              "      <td>20.29</td>\n",
              "      <td>14.34</td>\n",
              "      <td>135.10</td>\n",
              "      <td>1297.0</td>\n",
              "      <td>0.10030</td>\n",
              "      <td>0.13280</td>\n",
              "      <td>0.1980</td>\n",
              "      <td>0.10430</td>\n",
              "      <td>0.1809</td>\n",
              "      <td>0.05883</td>\n",
              "      <td>0.7572</td>\n",
              "      <td>0.7813</td>\n",
              "      <td>5.438</td>\n",
              "      <td>94.44</td>\n",
              "      <td>0.011490</td>\n",
              "      <td>0.02461</td>\n",
              "      <td>0.05688</td>\n",
              "      <td>0.01885</td>\n",
              "      <td>0.01756</td>\n",
              "      <td>0.005115</td>\n",
              "      <td>22.54</td>\n",
              "      <td>16.67</td>\n",
              "      <td>152.20</td>\n",
              "      <td>1575.0</td>\n",
              "      <td>0.1374</td>\n",
              "      <td>0.2050</td>\n",
              "      <td>0.4000</td>\n",
              "      <td>0.1625</td>\n",
              "      <td>0.2364</td>\n",
              "      <td>0.07678</td>\n",
              "      <td>0</td>\n",
              "    </tr>\n",
              "  </tbody>\n",
              "</table>\n",
              "</div>"
            ],
            "text/plain": [
              "   mean radius  mean texture  ...  worst fractal dimension  target\n",
              "0        17.99         10.38  ...                  0.11890       0\n",
              "1        20.57         17.77  ...                  0.08902       0\n",
              "2        19.69         21.25  ...                  0.08758       0\n",
              "3        11.42         20.38  ...                  0.17300       0\n",
              "4        20.29         14.34  ...                  0.07678       0\n",
              "\n",
              "[5 rows x 31 columns]"
            ]
          },
          "metadata": {},
          "execution_count": 459
        }
      ]
    },
    {
      "cell_type": "code",
      "metadata": {
        "id": "pG0FO4O6sy96"
      },
      "source": [
        "X_train, X_test, y_train, y_test = train_test_split(df.drop(['target'], axis=1), df['target'], random_state=42)"
      ],
      "execution_count": 460,
      "outputs": []
    },
    {
      "cell_type": "code",
      "metadata": {
        "id": "1JryFFIKrENb"
      },
      "source": [
        "tree = DecisionTreeClassifier(max_depth=3, random_state=42)"
      ],
      "execution_count": 461,
      "outputs": []
    },
    {
      "cell_type": "code",
      "metadata": {
        "colab": {
          "base_uri": "https://localhost:8080/"
        },
        "id": "9yB3v1jhrjMs",
        "outputId": "01897ebf-1361-494d-c77c-95f002a917f1"
      },
      "source": [
        "tree.fit(X_train, y=y_train)"
      ],
      "execution_count": 462,
      "outputs": [
        {
          "output_type": "execute_result",
          "data": {
            "text/plain": [
              "DecisionTreeClassifier(ccp_alpha=0.0, class_weight=None, criterion='gini',\n",
              "                       max_depth=3, max_features=None, max_leaf_nodes=None,\n",
              "                       min_impurity_decrease=0.0, min_impurity_split=None,\n",
              "                       min_samples_leaf=1, min_samples_split=2,\n",
              "                       min_weight_fraction_leaf=0.0, presort='deprecated',\n",
              "                       random_state=42, splitter='best')"
            ]
          },
          "metadata": {},
          "execution_count": 462
        }
      ]
    },
    {
      "cell_type": "code",
      "metadata": {
        "id": "CE9Xrm_xtpn7"
      },
      "source": [
        "preds = tree.predict(X_test)"
      ],
      "execution_count": 463,
      "outputs": []
    },
    {
      "cell_type": "code",
      "metadata": {
        "id": "Jm1mqB16DBxR"
      },
      "source": [
        "f1, roc, rec, prc = evaluate_results(y_test, preds)"
      ],
      "execution_count": 464,
      "outputs": []
    },
    {
      "cell_type": "code",
      "metadata": {
        "id": "3wFkyRxTK0KJ"
      },
      "source": [
        "results['method'].append('Decision Tree')\n",
        "results['f1'].append(f1)\n",
        "results['roc'].append(roc)\n",
        "results['rec'].append(rec)\n",
        "results['prc'].append(prc)\n"
      ],
      "execution_count": 465,
      "outputs": []
    },
    {
      "cell_type": "markdown",
      "metadata": {
        "id": "1LFuxAPWJQrU"
      },
      "source": [
        "# Positive Unlabeled"
      ]
    },
    {
      "cell_type": "code",
      "metadata": {
        "id": "_SDKhsvz3Fzf"
      },
      "source": [
        "pu_df = df.copy()"
      ],
      "execution_count": 466,
      "outputs": []
    },
    {
      "cell_type": "code",
      "metadata": {
        "id": "5BJUiUzJ5pEN"
      },
      "source": [
        "# label 50% of 1st class as positive\n",
        "pos_samples = pu_df.loc[df['target'] == 1].sample(frac=0.5, random_state=5)\n",
        "pu_df['label'] = -1\n",
        "pu_df.loc[pos_samples.index, 'label'] = 1"
      ],
      "execution_count": 467,
      "outputs": []
    },
    {
      "cell_type": "code",
      "metadata": {
        "colab": {
          "base_uri": "https://localhost:8080/"
        },
        "id": "HC1T1Nb9CDlQ",
        "outputId": "52793cc8-89f7-47f9-9d02-8ae31853d6a8"
      },
      "source": [
        "# get random negative sampling (150 samples marked as negative)\n",
        "\n",
        "neg_sample = pu_df[pu_df['label']==-1].sample(150, random_state=5)\n",
        "sample_train = pd.concat([neg_sample, pos_samples]).sample(frac=1)\n",
        "print(neg_sample.shape, pos_samples.shape, sample_test.shape)\n"
      ],
      "execution_count": 468,
      "outputs": [
        {
          "output_type": "stream",
          "name": "stdout",
          "text": [
            "(150, 32) (178, 31) (50, 32)\n"
          ]
        }
      ]
    },
    {
      "cell_type": "code",
      "metadata": {
        "id": "BYw7d3vkSlig"
      },
      "source": [
        "neg_inx = pu_df.index.isin([neg_sample.index])"
      ],
      "execution_count": 469,
      "outputs": []
    },
    {
      "cell_type": "code",
      "metadata": {
        "id": "BPRqlB7OSRLj"
      },
      "source": [
        "sample_df = pu_df.copy()\n",
        "sample_df.drop(neg_sample.index, inplace=True)\n",
        "sample_df.drop(pos_samples.index, inplace=True)\n",
        "sample_test = sample_df[sample_df['label']==-1].sample(50, random_state=5)"
      ],
      "execution_count": 470,
      "outputs": []
    },
    {
      "cell_type": "code",
      "metadata": {
        "id": "FyVXYVh-CqRl"
      },
      "source": [
        "# fit/predict Decision Tree\n",
        "model = DecisionTreeClassifier(max_depth=3, random_state=42)\n",
        "\n",
        "model.fit(sample_train.iloc[:,:-2], \n",
        "          sample_train.iloc[:,-2])\n",
        "y_predict = model.predict(sample_test.iloc[:,:-2])\n",
        "f1, roc, rec, prc = evaluate_results(sample_test.iloc[:,-2], y_predict)"
      ],
      "execution_count": 471,
      "outputs": []
    },
    {
      "cell_type": "code",
      "metadata": {
        "id": "QTY_KctjLWXY"
      },
      "source": [
        "results['method'].append('P_U Decision Tree')\n",
        "results['f1'].append(f1)\n",
        "results['roc'].append(roc)\n",
        "results['rec'].append(rec)\n",
        "results['prc'].append(prc)"
      ],
      "execution_count": 472,
      "outputs": []
    },
    {
      "cell_type": "code",
      "metadata": {
        "colab": {
          "base_uri": "https://localhost:8080/",
          "height": 111
        },
        "id": "wnY1xtSOMRIU",
        "outputId": "f9ecea95-ff22-4060-a34f-f784bb29bf50"
      },
      "source": [
        "pd.DataFrame(results)"
      ],
      "execution_count": 473,
      "outputs": [
        {
          "output_type": "execute_result",
          "data": {
            "text/html": [
              "<div>\n",
              "<style scoped>\n",
              "    .dataframe tbody tr th:only-of-type {\n",
              "        vertical-align: middle;\n",
              "    }\n",
              "\n",
              "    .dataframe tbody tr th {\n",
              "        vertical-align: top;\n",
              "    }\n",
              "\n",
              "    .dataframe thead th {\n",
              "        text-align: right;\n",
              "    }\n",
              "</style>\n",
              "<table border=\"1\" class=\"dataframe\">\n",
              "  <thead>\n",
              "    <tr style=\"text-align: right;\">\n",
              "      <th></th>\n",
              "      <th>method</th>\n",
              "      <th>f1</th>\n",
              "      <th>roc</th>\n",
              "      <th>rec</th>\n",
              "      <th>prc</th>\n",
              "    </tr>\n",
              "  </thead>\n",
              "  <tbody>\n",
              "    <tr>\n",
              "      <th>0</th>\n",
              "      <td>Decision Tree</td>\n",
              "      <td>0.966667</td>\n",
              "      <td>0.951727</td>\n",
              "      <td>0.977528</td>\n",
              "      <td>0.956044</td>\n",
              "    </tr>\n",
              "    <tr>\n",
              "      <th>1</th>\n",
              "      <td>P_U Decision Tree</td>\n",
              "      <td>0.857143</td>\n",
              "      <td>0.879310</td>\n",
              "      <td>1.000000</td>\n",
              "      <td>0.750000</td>\n",
              "    </tr>\n",
              "  </tbody>\n",
              "</table>\n",
              "</div>"
            ],
            "text/plain": [
              "              method        f1       roc       rec       prc\n",
              "0      Decision Tree  0.966667  0.951727  0.977528  0.956044\n",
              "1  P_U Decision Tree  0.857143  0.879310  1.000000  0.750000"
            ]
          },
          "metadata": {},
          "execution_count": 473
        }
      ]
    },
    {
      "cell_type": "markdown",
      "metadata": {
        "id": "KuE9XqScMuBq"
      },
      "source": [
        "Получили некоторое улучшение по recall, по сравнению с обычным решением."
      ]
    },
    {
      "cell_type": "code",
      "metadata": {
        "id": "zfsKMDv2NQQq"
      },
      "source": [
        "pu_df = df.copy()\n"
      ],
      "execution_count": 474,
      "outputs": []
    },
    {
      "cell_type": "code",
      "metadata": {
        "id": "Nkfs_bOmNQQs"
      },
      "source": [
        "for i in np.arange(0.1, 1, 0.1):\n",
        "      \n",
        "    pos_samples = pu_df.loc[df['target'] == 1].sample(frac=i, random_state=5)\n",
        "    pu_df['label'] = -1\n",
        "    pu_df.loc[pos_samples.index, 'label'] = 1\n",
        "    neg_sample = pu_df[pu_df['label']==-1].sample(150, random_state=5)\n",
        "    sample_df = pu_df.copy()\n",
        "    sample_df.drop(neg_sample.index, inplace=True)\n",
        "    sample_df.drop(pos_samples.index, inplace=True)\n",
        "    sample_test = sample_df[sample_df['label']==-1].sample(50, random_state=5)\n",
        "    sample_train = pd.concat([neg_sample, pos_samples]).sample(frac=1)\n",
        "    model = DecisionTreeClassifier(max_depth=3, random_state=42)\n",
        "\n",
        "    model.fit(sample_train.iloc[:,:-2], \n",
        "              sample_train.iloc[:,-2])\n",
        "    y_predict = model.predict(sample_test.iloc[:,:-2])\n",
        "    f1, roc, rec, prc = evaluate_results(sample_test.iloc[:,-2], y_predict)\n",
        "    results['method'].append(f'{np.round(i, 1)}% P_U Decision Tree')\n",
        "    results['f1'].append(f1)\n",
        "    results['roc'].append(roc)\n",
        "    results['rec'].append(rec)\n",
        "    results['prc'].append(prc)"
      ],
      "execution_count": 475,
      "outputs": []
    },
    {
      "cell_type": "code",
      "metadata": {
        "colab": {
          "base_uri": "https://localhost:8080/",
          "height": 390
        },
        "id": "tVyX8FmVNQQt",
        "outputId": "47ea79ce-76c6-4dc4-b6c9-8ac7d0338867"
      },
      "source": [
        "pd.DataFrame(results)"
      ],
      "execution_count": 476,
      "outputs": [
        {
          "output_type": "execute_result",
          "data": {
            "text/html": [
              "<div>\n",
              "<style scoped>\n",
              "    .dataframe tbody tr th:only-of-type {\n",
              "        vertical-align: middle;\n",
              "    }\n",
              "\n",
              "    .dataframe tbody tr th {\n",
              "        vertical-align: top;\n",
              "    }\n",
              "\n",
              "    .dataframe thead th {\n",
              "        text-align: right;\n",
              "    }\n",
              "</style>\n",
              "<table border=\"1\" class=\"dataframe\">\n",
              "  <thead>\n",
              "    <tr style=\"text-align: right;\">\n",
              "      <th></th>\n",
              "      <th>method</th>\n",
              "      <th>f1</th>\n",
              "      <th>roc</th>\n",
              "      <th>rec</th>\n",
              "      <th>prc</th>\n",
              "    </tr>\n",
              "  </thead>\n",
              "  <tbody>\n",
              "    <tr>\n",
              "      <th>0</th>\n",
              "      <td>Decision Tree</td>\n",
              "      <td>0.966667</td>\n",
              "      <td>0.951727</td>\n",
              "      <td>0.977528</td>\n",
              "      <td>0.956044</td>\n",
              "    </tr>\n",
              "    <tr>\n",
              "      <th>1</th>\n",
              "      <td>P_U Decision Tree</td>\n",
              "      <td>0.857143</td>\n",
              "      <td>0.879310</td>\n",
              "      <td>1.000000</td>\n",
              "      <td>0.750000</td>\n",
              "    </tr>\n",
              "    <tr>\n",
              "      <th>2</th>\n",
              "      <td>0.1% P_U Decision Tree</td>\n",
              "      <td>0.955224</td>\n",
              "      <td>0.939338</td>\n",
              "      <td>0.941176</td>\n",
              "      <td>0.969697</td>\n",
              "    </tr>\n",
              "    <tr>\n",
              "      <th>3</th>\n",
              "      <td>0.2% P_U Decision Tree</td>\n",
              "      <td>0.877193</td>\n",
              "      <td>0.860000</td>\n",
              "      <td>1.000000</td>\n",
              "      <td>0.781250</td>\n",
              "    </tr>\n",
              "    <tr>\n",
              "      <th>4</th>\n",
              "      <td>0.3% P_U Decision Tree</td>\n",
              "      <td>0.909091</td>\n",
              "      <td>0.897436</td>\n",
              "      <td>0.961538</td>\n",
              "      <td>0.862069</td>\n",
              "    </tr>\n",
              "    <tr>\n",
              "      <th>5</th>\n",
              "      <td>0.4% P_U Decision Tree</td>\n",
              "      <td>0.863636</td>\n",
              "      <td>0.891667</td>\n",
              "      <td>0.950000</td>\n",
              "      <td>0.791667</td>\n",
              "    </tr>\n",
              "    <tr>\n",
              "      <th>6</th>\n",
              "      <td>0.5% P_U Decision Tree</td>\n",
              "      <td>0.857143</td>\n",
              "      <td>0.879310</td>\n",
              "      <td>1.000000</td>\n",
              "      <td>0.750000</td>\n",
              "    </tr>\n",
              "    <tr>\n",
              "      <th>7</th>\n",
              "      <td>0.6% P_U Decision Tree</td>\n",
              "      <td>0.842105</td>\n",
              "      <td>0.911765</td>\n",
              "      <td>1.000000</td>\n",
              "      <td>0.727273</td>\n",
              "    </tr>\n",
              "    <tr>\n",
              "      <th>8</th>\n",
              "      <td>0.7% P_U Decision Tree</td>\n",
              "      <td>0.914286</td>\n",
              "      <td>0.940285</td>\n",
              "      <td>0.941176</td>\n",
              "      <td>0.888889</td>\n",
              "    </tr>\n",
              "    <tr>\n",
              "      <th>9</th>\n",
              "      <td>0.8% P_U Decision Tree</td>\n",
              "      <td>0.774194</td>\n",
              "      <td>0.907895</td>\n",
              "      <td>1.000000</td>\n",
              "      <td>0.631579</td>\n",
              "    </tr>\n",
              "    <tr>\n",
              "      <th>10</th>\n",
              "      <td>0.9% P_U Decision Tree</td>\n",
              "      <td>0.705882</td>\n",
              "      <td>0.882060</td>\n",
              "      <td>0.857143</td>\n",
              "      <td>0.600000</td>\n",
              "    </tr>\n",
              "  </tbody>\n",
              "</table>\n",
              "</div>"
            ],
            "text/plain": [
              "                    method        f1       roc       rec       prc\n",
              "0            Decision Tree  0.966667  0.951727  0.977528  0.956044\n",
              "1        P_U Decision Tree  0.857143  0.879310  1.000000  0.750000\n",
              "2   0.1% P_U Decision Tree  0.955224  0.939338  0.941176  0.969697\n",
              "3   0.2% P_U Decision Tree  0.877193  0.860000  1.000000  0.781250\n",
              "4   0.3% P_U Decision Tree  0.909091  0.897436  0.961538  0.862069\n",
              "5   0.4% P_U Decision Tree  0.863636  0.891667  0.950000  0.791667\n",
              "6   0.5% P_U Decision Tree  0.857143  0.879310  1.000000  0.750000\n",
              "7   0.6% P_U Decision Tree  0.842105  0.911765  1.000000  0.727273\n",
              "8   0.7% P_U Decision Tree  0.914286  0.940285  0.941176  0.888889\n",
              "9   0.8% P_U Decision Tree  0.774194  0.907895  1.000000  0.631579\n",
              "10  0.9% P_U Decision Tree  0.705882  0.882060  0.857143  0.600000"
            ]
          },
          "metadata": {},
          "execution_count": 476
        }
      ]
    },
    {
      "cell_type": "markdown",
      "metadata": {
        "id": "eDPLeQz8XFyC"
      },
      "source": [
        "Наилучшие показатели получены при доле P 10% и 70%"
      ]
    },
    {
      "cell_type": "markdown",
      "metadata": {
        "id": "pQKu-SY1YIbr"
      },
      "source": [
        "Думаю датасет не совсем подходит для решения через Random Negative Sampling из-за болшого количества наблюдений первого класса. "
      ]
    }
  ]
}